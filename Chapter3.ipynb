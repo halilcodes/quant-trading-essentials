{
 "cells": [
  {
   "cell_type": "markdown",
   "metadata": {
    "hideCode": false,
    "hidePrompt": false
   },
   "source": [
    "# Python For Traders and Investors - Chapter 3"
   ]
  },
  {
   "cell_type": "markdown",
   "metadata": {
    "hideCode": false,
    "hidePrompt": false
   },
   "source": [
    "## 3.1 Build VWAP From a Text File"
   ]
  },
  {
   "cell_type": "markdown",
   "metadata": {
    "hideCode": false,
    "hidePrompt": false
   },
   "source": [
    "To bring it all together, let's calculate the volume weighted average price (VWAP) for our price data. Once you understand this, you are not so far from building your own backtests. For the VWAP calculation we need the daily close prices and the volumes. We need to re-open the file, so we can start again from the first value.\n",
    "\n",
    "Secondly, for a VWAP we need a lookback period for which we can calculate the average. Let's use a 20-day window. In order to store the values we can write them to a list and then do some calculations with that list. Writing values to a list is easy. First, we need to initialize the list:"
   ]
  },
  {
   "cell_type": "code",
   "execution_count": 1,
   "metadata": {
    "hideCode": false,
    "hidePrompt": false
   },
   "outputs": [],
   "source": [
    "my_values = []"
   ]
  },
  {
   "cell_type": "code",
   "execution_count": 2,
   "metadata": {
    "hideCode": false,
    "hidePrompt": false
   },
   "outputs": [
    {
     "data": {
      "text/plain": [
       "[12.64, 1.04]"
      ]
     },
     "execution_count": 2,
     "metadata": {},
     "output_type": "execute_result"
    }
   ],
   "source": [
    "# Next, we put values in the list:\n",
    "my_values.append(12.64)\n",
    "my_values.append(1.04)\n",
    "my_values"
   ]
  },
  {
   "cell_type": "markdown",
   "metadata": {
    "hideCode": false,
    "hidePrompt": false
   },
   "source": [
    "In a list we can even mix different data types:"
   ]
  },
  {
   "cell_type": "code",
   "execution_count": 3,
   "metadata": {
    "hideCode": false,
    "hidePrompt": false
   },
   "outputs": [
    {
     "data": {
      "text/plain": [
       "[12.64, 1.04, 'hello world']"
      ]
     },
     "execution_count": 3,
     "metadata": {},
     "output_type": "execute_result"
    }
   ],
   "source": [
    "my_values.append('hello world')\n",
    "my_values"
   ]
  },
  {
   "cell_type": "markdown",
   "metadata": {
    "hideCode": false,
    "hidePrompt": false
   },
   "source": [
    "Now we have enough knowledge to build our VWAP function:"
   ]
  },
  {
   "cell_type": "markdown",
   "metadata": {},
   "source": [
    "__N.B. Colab users: please un-comment the following box of code to upload 'output.csv' to Colab, and then select 'output.csv' as the file to upload.__"
   ]
  },
  {
   "cell_type": "code",
   "execution_count": 4,
   "metadata": {},
   "outputs": [],
   "source": [
    "#from google.colab import files\n",
    "#uploaded = files.upload()"
   ]
  },
  {
   "cell_type": "code",
   "execution_count": 5,
   "metadata": {
    "hideCode": false,
    "hidePrompt": false
   },
   "outputs": [
    {
     "name": "stdout",
     "output_type": "stream",
     "text": [
      "Date,High,Low,Open,Close,Volume,Adj Close\n",
      "\n"
     ]
    }
   ],
   "source": [
    "# Initialising lists \n",
    "close_prices = []\n",
    "volumes = []\n",
    "\n",
    "# Opening file\n",
    "fid = open('output.csv')\n",
    "print(fid.readline())\n",
    "for i in fid:\n",
    "    line = i.strip().split(',')\n",
    "    cl = float(line[4])\n",
    "    vol = float(line[5])\n",
    "    close_prices.append(cl)\n",
    "    volumes.append(vol)"
   ]
  },
  {
   "cell_type": "markdown",
   "metadata": {
    "hideCode": false,
    "hidePrompt": false
   },
   "source": [
    "When we run this code, we produce two lists, one for close prices and one for volumes. Let's look at the list with the volumes. Often, we don't really want to look at all the values at once, but maybe just the first 5. For lists we cannot use the head() function as we did earlier for Pandas data frames. We use indexing instead, which is just as easy."
   ]
  },
  {
   "cell_type": "code",
   "execution_count": 6,
   "metadata": {
    "hideCode": false,
    "hidePrompt": false
   },
   "outputs": [
    {
     "data": {
      "text/plain": [
       "[195009600.0, 156521600.0, 103222800.0, 109020400.0, 130108000.0]"
      ]
     },
     "execution_count": 6,
     "metadata": {},
     "output_type": "execute_result"
    }
   ],
   "source": [
    "volumes[0:5]"
   ]
  },
  {
   "cell_type": "markdown",
   "metadata": {
    "hideCode": false,
    "hidePrompt": false
   },
   "source": [
    "In Python we don't even need to specify the zeros and we can simpy do this:"
   ]
  },
  {
   "cell_type": "code",
   "execution_count": 7,
   "metadata": {
    "hideCode": false,
    "hidePrompt": false
   },
   "outputs": [
    {
     "data": {
      "text/plain": [
       "[195009600.0, 156521600.0, 103222800.0, 109020400.0, 130108000.0]"
      ]
     },
     "execution_count": 7,
     "metadata": {},
     "output_type": "execute_result"
    }
   ],
   "source": [
    "volumes[:5]"
   ]
  },
  {
   "cell_type": "markdown",
   "metadata": {
    "hideCode": false,
    "hidePrompt": false
   },
   "source": [
    "Let's print the last 5 values:"
   ]
  },
  {
   "cell_type": "code",
   "execution_count": 8,
   "metadata": {
    "hideCode": false,
    "hidePrompt": false
   },
   "outputs": [
    {
     "data": {
      "text/plain": [
       "[131587100.0, 123055300.0, 88966500.0, 108256500.0, 129838200.0]"
      ]
     },
     "execution_count": 8,
     "metadata": {},
     "output_type": "execute_result"
    }
   ],
   "source": [
    "volumes[-5:]"
   ]
  },
  {
   "cell_type": "markdown",
   "metadata": {
    "hideCode": false,
    "hidePrompt": false
   },
   "source": [
    "Note, the minus sign in the index. It is easy to see that we can pick out any set of values from our list:"
   ]
  },
  {
   "cell_type": "code",
   "execution_count": 9,
   "metadata": {
    "hideCode": false,
    "hidePrompt": false
   },
   "outputs": [
    {
     "data": {
      "text/plain": [
       "[106499600.0, 84278400.0, 85003200.0, 259530800.0, 289229200.0]"
      ]
     },
     "execution_count": 9,
     "metadata": {},
     "output_type": "execute_result"
    }
   ],
   "source": [
    "volumes[20:25]"
   ]
  },
  {
   "cell_type": "markdown",
   "metadata": {
    "hideCode": false,
    "hidePrompt": false
   },
   "source": [
    "Now that we have the lists we are ready to do some maths. There is a package that is perfect for that called numpy. It allows us to do a wide range of calculations with lists and arrays. In order to avoid having to type the word numpy every time, by convention we import it as **np** like this:"
   ]
  },
  {
   "cell_type": "code",
   "execution_count": 10,
   "metadata": {
    "hideCode": false,
    "hidePrompt": false
   },
   "outputs": [],
   "source": [
    "import numpy as np"
   ]
  },
  {
   "cell_type": "markdown",
   "metadata": {
    "hideCode": false,
    "hidePrompt": false
   },
   "source": [
    "Let's do some calculations:"
   ]
  },
  {
   "cell_type": "code",
   "execution_count": 11,
   "metadata": {
    "hideCode": false,
    "hidePrompt": false
   },
   "outputs": [
    {
     "data": {
      "text/plain": [
       "array([7.45960446e+09, 6.02569051e+09, 3.95498144e+09, ...,\n",
       "       1.41883770e+10, 1.79727446e+10, 2.03547352e+10])"
      ]
     },
     "execution_count": 11,
     "metadata": {},
     "output_type": "execute_result"
    }
   ],
   "source": [
    "np.multiply(close_prices, volumes)"
   ]
  },
  {
   "cell_type": "markdown",
   "metadata": {
    "hideCode": false,
    "hidePrompt": false
   },
   "source": [
    "We can see that this operation returns something that is called *array*. An array is a data type similar to a list but has some important differences:\n",
    "- In a list each element can be stored anywhere in memory and has a pointer to the previous and the next element.\n",
    "- To access a element in a list one has to start with the first element and travese the whole list until the right element is found.\n",
    "- In an array each element is stored next to each other. Each element can be accessed directly without traversing.\n",
    "- Arrays are smaller in size and much faster to access.\n",
    "- With lists it is much easier to append and insert data, which is very inefficient with arrays.\n",
    "- List and arrays can be converted into each other.\n",
    "\n",
    "Right now, we don't need to worry to much what we should use, just be aware of the differences between the two.\n",
    "\n",
    "With this we can now build our VWAP calculation:"
   ]
  },
  {
   "cell_type": "code",
   "execution_count": 12,
   "metadata": {
    "hideCode": false,
    "hidePrompt": false
   },
   "outputs": [
    {
     "data": {
      "text/plain": [
       "38.394326083689876"
      ]
     },
     "execution_count": 12,
     "metadata": {},
     "output_type": "execute_result"
    }
   ],
   "source": [
    "# sum of daily_volume x price divided by total volume\n",
    "np.sum(np.multiply(close_prices[:20],volumes[:20]))/np.sum(volumes[:20])"
   ]
  },
  {
   "cell_type": "markdown",
   "metadata": {
    "hideCode": false,
    "hidePrompt": false
   },
   "source": [
    "Let's compare that to the actual price on that day:"
   ]
  },
  {
   "cell_type": "code",
   "execution_count": 13,
   "metadata": {
    "hideCode": false,
    "hidePrompt": false
   },
   "outputs": [
    {
     "data": {
      "text/plain": [
       "38.48249816894531"
      ]
     },
     "execution_count": 13,
     "metadata": {},
     "output_type": "execute_result"
    }
   ],
   "source": [
    "close_prices[19]"
   ]
  },
  {
   "cell_type": "code",
   "execution_count": 14,
   "metadata": {},
   "outputs": [
    {
     "data": {
      "text/plain": [
       "38.61249923706055"
      ]
     },
     "execution_count": 14,
     "metadata": {},
     "output_type": "execute_result"
    }
   ],
   "source": [
    "close_prices[20]"
   ]
  },
  {
   "cell_type": "markdown",
   "metadata": {
    "hideCode": false,
    "hidePrompt": false
   },
   "source": [
    "You might notice that we used index 19 rather than 20. This is because close_prices[0:20] actually gives us the 20 values from index 0 to 19. While this is confusing at first, Python does that to make everything else really easy. We just have to be aware that in slices (indices in square brackets with colons) the value before the colon is inclusive and the value after the colon exculsive. **This is really important to remember as it can be a major issue that introduces look-ahead errors when we run backtests**"
   ]
  },
  {
   "cell_type": "code",
   "execution_count": 15,
   "metadata": {},
   "outputs": [],
   "source": [
    "close_prices = []\n",
    "volumes = []\n",
    "vwaps = []"
   ]
  },
  {
   "cell_type": "code",
   "execution_count": 16,
   "metadata": {},
   "outputs": [
    {
     "data": {
      "text/plain": [
       "'Date,High,Low,Open,Close,Volume,Adj Close\\n'"
      ]
     },
     "execution_count": 16,
     "metadata": {},
     "output_type": "execute_result"
    }
   ],
   "source": [
    "fid = open('output.csv')\n",
    "fid.readline() "
   ]
  },
  {
   "cell_type": "code",
   "execution_count": 17,
   "metadata": {},
   "outputs": [],
   "source": [
    "for i in fid:\n",
    "    line = i.strip().split(',')\n",
    "    cl = float(line[4])\n",
    "    vol = float(line[5])\n",
    "    close_prices.append(cl)\n",
    "    volumes.append(vol)\n",
    "    vwap = np.sum(np.multiply(close_prices[-20:],volumes[-20:]))/np.sum(volumes[-20:])\n",
    "    vwaps.append(vwap)"
   ]
  },
  {
   "cell_type": "code",
   "execution_count": 18,
   "metadata": {},
   "outputs": [],
   "source": [
    "fid.close()"
   ]
  },
  {
   "cell_type": "markdown",
   "metadata": {
    "hideCode": false,
    "hidePrompt": false
   },
   "source": [
    "Note that for the first lines the index [-20:] would be negative. Python ignores that and simply starts with zero. This means that at first our VWAP is built from less than 20 values."
   ]
  },
  {
   "cell_type": "markdown",
   "metadata": {
    "hideCode": false,
    "hidePrompt": false
   },
   "source": [
    "## 3.2 Pandas for financial data\n",
    "\n",
    "The Pandas package is probably the biggest reason why Python is so popular in finance. It provides a set of tools that makes it much easier to build quantitative analysis models. We already used some Pandas function above and now we dive into it much deeper. \n",
    "\n",
    "Pandas is similar to a database application like MySql but with many convenient functions on top of it. Its most important structure is a data frame, which is effectively a table with dated rows and different columns, just like what we've seen previously. Pandas sits on top on Numpy and most of the numpy mathematical functions can be used with Pandas, with the advantage that we now have dates along with our normal indices.\n",
    "\n",
    "Let's start again by reading our file into a Pandas data frame. "
   ]
  },
  {
   "cell_type": "code",
   "execution_count": 19,
   "metadata": {},
   "outputs": [],
   "source": [
    "import pandas as pd"
   ]
  },
  {
   "cell_type": "code",
   "execution_count": 20,
   "metadata": {
    "hideCode": false,
    "hidePrompt": false
   },
   "outputs": [
    {
     "data": {
      "text/html": [
       "<div>\n",
       "<style scoped>\n",
       "    .dataframe tbody tr th:only-of-type {\n",
       "        vertical-align: middle;\n",
       "    }\n",
       "\n",
       "    .dataframe tbody tr th {\n",
       "        vertical-align: top;\n",
       "    }\n",
       "\n",
       "    .dataframe thead th {\n",
       "        text-align: right;\n",
       "    }\n",
       "</style>\n",
       "<table border=\"1\" class=\"dataframe\">\n",
       "  <thead>\n",
       "    <tr style=\"text-align: right;\">\n",
       "      <th></th>\n",
       "      <th>Date</th>\n",
       "      <th>High</th>\n",
       "      <th>Low</th>\n",
       "      <th>Open</th>\n",
       "      <th>Close</th>\n",
       "      <th>Volume</th>\n",
       "      <th>Adj Close</th>\n",
       "    </tr>\n",
       "  </thead>\n",
       "  <tbody>\n",
       "    <tr>\n",
       "      <th>0</th>\n",
       "      <td>2017-05-08</td>\n",
       "      <td>38.424999</td>\n",
       "      <td>37.257500</td>\n",
       "      <td>37.257500</td>\n",
       "      <td>38.252499</td>\n",
       "      <td>195009600.0</td>\n",
       "      <td>36.116478</td>\n",
       "    </tr>\n",
       "    <tr>\n",
       "      <th>1</th>\n",
       "      <td>2017-05-09</td>\n",
       "      <td>38.720001</td>\n",
       "      <td>38.362499</td>\n",
       "      <td>38.467499</td>\n",
       "      <td>38.497501</td>\n",
       "      <td>156521600.0</td>\n",
       "      <td>36.347801</td>\n",
       "    </tr>\n",
       "    <tr>\n",
       "      <th>2</th>\n",
       "      <td>2017-05-10</td>\n",
       "      <td>38.485001</td>\n",
       "      <td>38.027500</td>\n",
       "      <td>38.407501</td>\n",
       "      <td>38.314999</td>\n",
       "      <td>103222800.0</td>\n",
       "      <td>36.175488</td>\n",
       "    </tr>\n",
       "    <tr>\n",
       "      <th>3</th>\n",
       "      <td>2017-05-11</td>\n",
       "      <td>38.517502</td>\n",
       "      <td>38.077499</td>\n",
       "      <td>38.112499</td>\n",
       "      <td>38.487499</td>\n",
       "      <td>109020400.0</td>\n",
       "      <td>36.488346</td>\n",
       "    </tr>\n",
       "    <tr>\n",
       "      <th>4</th>\n",
       "      <td>2017-05-12</td>\n",
       "      <td>39.105000</td>\n",
       "      <td>38.667500</td>\n",
       "      <td>38.674999</td>\n",
       "      <td>39.025002</td>\n",
       "      <td>130108000.0</td>\n",
       "      <td>36.997929</td>\n",
       "    </tr>\n",
       "  </tbody>\n",
       "</table>\n",
       "</div>"
      ],
      "text/plain": [
       "         Date       High        Low       Open      Close       Volume  \\\n",
       "0  2017-05-08  38.424999  37.257500  37.257500  38.252499  195009600.0   \n",
       "1  2017-05-09  38.720001  38.362499  38.467499  38.497501  156521600.0   \n",
       "2  2017-05-10  38.485001  38.027500  38.407501  38.314999  103222800.0   \n",
       "3  2017-05-11  38.517502  38.077499  38.112499  38.487499  109020400.0   \n",
       "4  2017-05-12  39.105000  38.667500  38.674999  39.025002  130108000.0   \n",
       "\n",
       "   Adj Close  \n",
       "0  36.116478  \n",
       "1  36.347801  \n",
       "2  36.175488  \n",
       "3  36.488346  \n",
       "4  36.997929  "
      ]
     },
     "execution_count": 20,
     "metadata": {},
     "output_type": "execute_result"
    }
   ],
   "source": [
    "data = pd.read_csv('output.csv')\n",
    "data.head()"
   ]
  },
  {
   "cell_type": "code",
   "execution_count": 21,
   "metadata": {},
   "outputs": [
    {
     "data": {
      "text/html": [
       "<div>\n",
       "<style scoped>\n",
       "    .dataframe tbody tr th:only-of-type {\n",
       "        vertical-align: middle;\n",
       "    }\n",
       "\n",
       "    .dataframe tbody tr th {\n",
       "        vertical-align: top;\n",
       "    }\n",
       "\n",
       "    .dataframe thead th {\n",
       "        text-align: right;\n",
       "    }\n",
       "</style>\n",
       "<table border=\"1\" class=\"dataframe\">\n",
       "  <thead>\n",
       "    <tr style=\"text-align: right;\">\n",
       "      <th></th>\n",
       "      <th>High</th>\n",
       "      <th>Low</th>\n",
       "      <th>Open</th>\n",
       "      <th>Close</th>\n",
       "      <th>Volume</th>\n",
       "      <th>Adj Close</th>\n",
       "    </tr>\n",
       "    <tr>\n",
       "      <th>Date</th>\n",
       "      <th></th>\n",
       "      <th></th>\n",
       "      <th></th>\n",
       "      <th></th>\n",
       "      <th></th>\n",
       "      <th></th>\n",
       "    </tr>\n",
       "  </thead>\n",
       "  <tbody>\n",
       "    <tr>\n",
       "      <th>2017-05-08</th>\n",
       "      <td>38.424999</td>\n",
       "      <td>37.257500</td>\n",
       "      <td>37.257500</td>\n",
       "      <td>38.252499</td>\n",
       "      <td>195009600.0</td>\n",
       "      <td>36.116478</td>\n",
       "    </tr>\n",
       "    <tr>\n",
       "      <th>2017-05-09</th>\n",
       "      <td>38.720001</td>\n",
       "      <td>38.362499</td>\n",
       "      <td>38.467499</td>\n",
       "      <td>38.497501</td>\n",
       "      <td>156521600.0</td>\n",
       "      <td>36.347801</td>\n",
       "    </tr>\n",
       "    <tr>\n",
       "      <th>2017-05-10</th>\n",
       "      <td>38.485001</td>\n",
       "      <td>38.027500</td>\n",
       "      <td>38.407501</td>\n",
       "      <td>38.314999</td>\n",
       "      <td>103222800.0</td>\n",
       "      <td>36.175488</td>\n",
       "    </tr>\n",
       "    <tr>\n",
       "      <th>2017-05-11</th>\n",
       "      <td>38.517502</td>\n",
       "      <td>38.077499</td>\n",
       "      <td>38.112499</td>\n",
       "      <td>38.487499</td>\n",
       "      <td>109020400.0</td>\n",
       "      <td>36.488346</td>\n",
       "    </tr>\n",
       "    <tr>\n",
       "      <th>2017-05-12</th>\n",
       "      <td>39.105000</td>\n",
       "      <td>38.667500</td>\n",
       "      <td>38.674999</td>\n",
       "      <td>39.025002</td>\n",
       "      <td>130108000.0</td>\n",
       "      <td>36.997929</td>\n",
       "    </tr>\n",
       "  </tbody>\n",
       "</table>\n",
       "</div>"
      ],
      "text/plain": [
       "                 High        Low       Open      Close       Volume  Adj Close\n",
       "Date                                                                          \n",
       "2017-05-08  38.424999  37.257500  37.257500  38.252499  195009600.0  36.116478\n",
       "2017-05-09  38.720001  38.362499  38.467499  38.497501  156521600.0  36.347801\n",
       "2017-05-10  38.485001  38.027500  38.407501  38.314999  103222800.0  36.175488\n",
       "2017-05-11  38.517502  38.077499  38.112499  38.487499  109020400.0  36.488346\n",
       "2017-05-12  39.105000  38.667500  38.674999  39.025002  130108000.0  36.997929"
      ]
     },
     "execution_count": 21,
     "metadata": {},
     "output_type": "execute_result"
    }
   ],
   "source": [
    "data = pd.read_csv('output.csv', index_col=0, parse_dates=True)\n",
    "data.head()"
   ]
  },
  {
   "cell_type": "code",
   "execution_count": 22,
   "metadata": {},
   "outputs": [
    {
     "data": {
      "text/plain": [
       "Timestamp('2017-05-08 00:00:00')"
      ]
     },
     "execution_count": 22,
     "metadata": {},
     "output_type": "execute_result"
    }
   ],
   "source": [
    "data.index[0]"
   ]
  },
  {
   "cell_type": "code",
   "execution_count": 23,
   "metadata": {},
   "outputs": [
    {
     "name": "stdout",
     "output_type": "stream",
     "text": [
      "<class 'pandas.core.frame.DataFrame'>\n",
      "DatetimeIndex: 1259 entries, 2017-05-08 to 2022-05-05\n",
      "Data columns (total 6 columns):\n",
      " #   Column     Non-Null Count  Dtype  \n",
      "---  ------     --------------  -----  \n",
      " 0   High       1259 non-null   float64\n",
      " 1   Low        1259 non-null   float64\n",
      " 2   Open       1259 non-null   float64\n",
      " 3   Close      1259 non-null   float64\n",
      " 4   Volume     1259 non-null   float64\n",
      " 5   Adj Close  1259 non-null   float64\n",
      "dtypes: float64(6)\n",
      "memory usage: 68.9 KB\n"
     ]
    }
   ],
   "source": [
    "data.info()"
   ]
  },
  {
   "cell_type": "code",
   "execution_count": 24,
   "metadata": {},
   "outputs": [
    {
     "data": {
      "text/html": [
       "<div>\n",
       "<style scoped>\n",
       "    .dataframe tbody tr th:only-of-type {\n",
       "        vertical-align: middle;\n",
       "    }\n",
       "\n",
       "    .dataframe tbody tr th {\n",
       "        vertical-align: top;\n",
       "    }\n",
       "\n",
       "    .dataframe thead th {\n",
       "        text-align: right;\n",
       "    }\n",
       "</style>\n",
       "<table border=\"1\" class=\"dataframe\">\n",
       "  <thead>\n",
       "    <tr style=\"text-align: right;\">\n",
       "      <th></th>\n",
       "      <th>High</th>\n",
       "      <th>Low</th>\n",
       "      <th>Open</th>\n",
       "      <th>Close</th>\n",
       "      <th>Volume</th>\n",
       "      <th>Adj Close</th>\n",
       "    </tr>\n",
       "  </thead>\n",
       "  <tbody>\n",
       "    <tr>\n",
       "      <th>count</th>\n",
       "      <td>1259.000000</td>\n",
       "      <td>1259.000000</td>\n",
       "      <td>1259.000000</td>\n",
       "      <td>1259.000000</td>\n",
       "      <td>1.259000e+03</td>\n",
       "      <td>1259.000000</td>\n",
       "    </tr>\n",
       "    <tr>\n",
       "      <th>mean</th>\n",
       "      <td>84.758094</td>\n",
       "      <td>82.884885</td>\n",
       "      <td>83.805209</td>\n",
       "      <td>83.860850</td>\n",
       "      <td>1.202471e+08</td>\n",
       "      <td>82.714397</td>\n",
       "    </tr>\n",
       "    <tr>\n",
       "      <th>std</th>\n",
       "      <td>45.791064</td>\n",
       "      <td>44.645549</td>\n",
       "      <td>45.223971</td>\n",
       "      <td>45.238268</td>\n",
       "      <td>5.533971e+07</td>\n",
       "      <td>45.736963</td>\n",
       "    </tr>\n",
       "    <tr>\n",
       "      <th>min</th>\n",
       "      <td>35.875000</td>\n",
       "      <td>35.500000</td>\n",
       "      <td>35.724998</td>\n",
       "      <td>35.547501</td>\n",
       "      <td>4.100000e+07</td>\n",
       "      <td>33.720016</td>\n",
       "    </tr>\n",
       "    <tr>\n",
       "      <th>25%</th>\n",
       "      <td>45.012501</td>\n",
       "      <td>44.212502</td>\n",
       "      <td>44.608749</td>\n",
       "      <td>44.603750</td>\n",
       "      <td>8.370460e+07</td>\n",
       "      <td>42.842268</td>\n",
       "    </tr>\n",
       "    <tr>\n",
       "      <th>50%</th>\n",
       "      <td>62.292500</td>\n",
       "      <td>60.000000</td>\n",
       "      <td>61.189999</td>\n",
       "      <td>61.195000</td>\n",
       "      <td>1.052076e+08</td>\n",
       "      <td>60.365505</td>\n",
       "    </tr>\n",
       "    <tr>\n",
       "      <th>75%</th>\n",
       "      <td>127.415001</td>\n",
       "      <td>124.750000</td>\n",
       "      <td>126.091248</td>\n",
       "      <td>125.900002</td>\n",
       "      <td>1.400632e+08</td>\n",
       "      <td>125.307152</td>\n",
       "    </tr>\n",
       "    <tr>\n",
       "      <th>max</th>\n",
       "      <td>182.940002</td>\n",
       "      <td>179.119995</td>\n",
       "      <td>182.630005</td>\n",
       "      <td>182.009995</td>\n",
       "      <td>4.265100e+08</td>\n",
       "      <td>181.778397</td>\n",
       "    </tr>\n",
       "  </tbody>\n",
       "</table>\n",
       "</div>"
      ],
      "text/plain": [
       "              High          Low         Open        Close        Volume  \\\n",
       "count  1259.000000  1259.000000  1259.000000  1259.000000  1.259000e+03   \n",
       "mean     84.758094    82.884885    83.805209    83.860850  1.202471e+08   \n",
       "std      45.791064    44.645549    45.223971    45.238268  5.533971e+07   \n",
       "min      35.875000    35.500000    35.724998    35.547501  4.100000e+07   \n",
       "25%      45.012501    44.212502    44.608749    44.603750  8.370460e+07   \n",
       "50%      62.292500    60.000000    61.189999    61.195000  1.052076e+08   \n",
       "75%     127.415001   124.750000   126.091248   125.900002  1.400632e+08   \n",
       "max     182.940002   179.119995   182.630005   182.009995  4.265100e+08   \n",
       "\n",
       "         Adj Close  \n",
       "count  1259.000000  \n",
       "mean     82.714397  \n",
       "std      45.736963  \n",
       "min      33.720016  \n",
       "25%      42.842268  \n",
       "50%      60.365505  \n",
       "75%     125.307152  \n",
       "max     181.778397  "
      ]
     },
     "execution_count": 24,
     "metadata": {},
     "output_type": "execute_result"
    }
   ],
   "source": [
    "data.describe()"
   ]
  },
  {
   "cell_type": "code",
   "execution_count": 25,
   "metadata": {},
   "outputs": [],
   "source": [
    "import matplotlib.pyplot as plt"
   ]
  },
  {
   "cell_type": "code",
   "execution_count": 26,
   "metadata": {},
   "outputs": [
    {
     "data": {
      "image/png": "[encoded data removed]",
      "text/plain": [
       "<Figure size 432x288 with 1 Axes>"
      ]
     },
     "metadata": {
      "needs_background": "light"
     },
     "output_type": "display_data"
    }
   ],
   "source": [
    "# Plotting a single column\n",
    "data['Close'].plot()\n",
    "plt.show()"
   ]
  },
  {
   "cell_type": "markdown",
   "metadata": {},
   "source": [
    "## 3.3 Plotting time series data"
   ]
  },
  {
   "cell_type": "code",
   "execution_count": 27,
   "metadata": {
    "hideCode": false,
    "hidePrompt": false
   },
   "outputs": [
    {
     "data": {
      "image/png": "[encoded data removed]",
      "text/plain": [
       "<Figure size 864x576 with 1 Axes>"
      ]
     },
     "metadata": {
      "needs_background": "light"
     },
     "output_type": "display_data"
    }
   ],
   "source": [
    "# Setting the figure size\n",
    "plt.figure(figsize=(12,8))\n",
    "data['Close'].plot()\n",
    "\n",
    "# Setting the x, y labels and title\n",
    "plt.xlabel('date', fontsize=16)\n",
    "plt.ylabel('Price', fontsize=16)\n",
    "plt.title('Daily close price', fontsize=16)\n",
    "\n",
    "# Add grid\n",
    "plt.grid()\n",
    "plt.show()"
   ]
  },
  {
   "cell_type": "markdown",
   "metadata": {
    "hideCode": false,
    "hidePrompt": false
   },
   "source": [
    "Lets plot the moving average:"
   ]
  },
  {
   "cell_type": "code",
   "execution_count": 28,
   "metadata": {
    "hideCode": false,
    "hidePrompt": false
   },
   "outputs": [
    {
     "data": {
      "image/png": "[encoded data removed]",
      "text/plain": [
       "<Figure size 864x576 with 1 Axes>"
      ]
     },
     "metadata": {
      "needs_background": "light"
     },
     "output_type": "display_data"
    }
   ],
   "source": [
    "plt.figure(figsize=(12,8))\n",
    "data['Close'].plot()\n",
    "\n",
    "# 20-day moving average\n",
    "data['Close'].rolling(20).mean().plot()\n",
    "\n",
    "plt.xlabel('date', fontsize=16)\n",
    "plt.ylabel('Daily price', fontsize=16)\n",
    "\n",
    "# Add legends\n",
    "plt.legend(['Close price', '20-day moving average'], fontsize=12)\n",
    "\n",
    "plt.grid()\n",
    "plt.show()"
   ]
  },
  {
   "cell_type": "markdown",
   "metadata": {
    "hideCode": false,
    "hidePrompt": false
   },
   "source": [
    "That was really easy! How about the VWAP? A bit harder but still only one line compared to 13 lines before:"
   ]
  },
  {
   "cell_type": "code",
   "execution_count": 29,
   "metadata": {},
   "outputs": [
    {
     "data": {
      "image/png": "[encoded data removed]",
      "text/plain": [
       "<Figure size 864x576 with 1 Axes>"
      ]
     },
     "metadata": {
      "needs_background": "light"
     },
     "output_type": "display_data"
    }
   ],
   "source": [
    "plt.figure(figsize=(12,8))\n",
    "data['Close'].plot(color='g')\n",
    "\n",
    "# 20-day VWAP\n",
    "vwap = (data['Close']*data['Volume']).rolling(20).sum()/data['Volume'].rolling(20).sum()\n",
    "vwap.plot(color='m')\n",
    "\n",
    "plt.xlabel('date', fontsize=16)\n",
    "plt.ylabel('Daily price', fontsize=16)\n",
    "\n",
    "# Add legends\n",
    "plt.legend(['Close price', '20-day VWAP'], fontsize=12)\n",
    "\n",
    "plt.grid()\n",
    "plt.show()"
   ]
  },
  {
   "cell_type": "markdown",
   "metadata": {},
   "source": [
    "__daily ranges__"
   ]
  },
  {
   "cell_type": "code",
   "execution_count": 30,
   "metadata": {},
   "outputs": [
    {
     "data": {
      "text/html": [
       "<div>\n",
       "<style scoped>\n",
       "    .dataframe tbody tr th:only-of-type {\n",
       "        vertical-align: middle;\n",
       "    }\n",
       "\n",
       "    .dataframe tbody tr th {\n",
       "        vertical-align: top;\n",
       "    }\n",
       "\n",
       "    .dataframe thead th {\n",
       "        text-align: right;\n",
       "    }\n",
       "</style>\n",
       "<table border=\"1\" class=\"dataframe\">\n",
       "  <thead>\n",
       "    <tr style=\"text-align: right;\">\n",
       "      <th></th>\n",
       "      <th>High</th>\n",
       "      <th>Low</th>\n",
       "      <th>Open</th>\n",
       "      <th>Close</th>\n",
       "      <th>Volume</th>\n",
       "      <th>Adj Close</th>\n",
       "      <th>range</th>\n",
       "    </tr>\n",
       "    <tr>\n",
       "      <th>Date</th>\n",
       "      <th></th>\n",
       "      <th></th>\n",
       "      <th></th>\n",
       "      <th></th>\n",
       "      <th></th>\n",
       "      <th></th>\n",
       "      <th></th>\n",
       "    </tr>\n",
       "  </thead>\n",
       "  <tbody>\n",
       "    <tr>\n",
       "      <th>2017-05-08</th>\n",
       "      <td>38.424999</td>\n",
       "      <td>37.257500</td>\n",
       "      <td>37.257500</td>\n",
       "      <td>38.252499</td>\n",
       "      <td>195009600.0</td>\n",
       "      <td>36.116478</td>\n",
       "      <td>1.167500</td>\n",
       "    </tr>\n",
       "    <tr>\n",
       "      <th>2017-05-09</th>\n",
       "      <td>38.720001</td>\n",
       "      <td>38.362499</td>\n",
       "      <td>38.467499</td>\n",
       "      <td>38.497501</td>\n",
       "      <td>156521600.0</td>\n",
       "      <td>36.347801</td>\n",
       "      <td>0.357502</td>\n",
       "    </tr>\n",
       "    <tr>\n",
       "      <th>2017-05-10</th>\n",
       "      <td>38.485001</td>\n",
       "      <td>38.027500</td>\n",
       "      <td>38.407501</td>\n",
       "      <td>38.314999</td>\n",
       "      <td>103222800.0</td>\n",
       "      <td>36.175488</td>\n",
       "      <td>0.457500</td>\n",
       "    </tr>\n",
       "    <tr>\n",
       "      <th>2017-05-11</th>\n",
       "      <td>38.517502</td>\n",
       "      <td>38.077499</td>\n",
       "      <td>38.112499</td>\n",
       "      <td>38.487499</td>\n",
       "      <td>109020400.0</td>\n",
       "      <td>36.488346</td>\n",
       "      <td>0.440002</td>\n",
       "    </tr>\n",
       "    <tr>\n",
       "      <th>2017-05-12</th>\n",
       "      <td>39.105000</td>\n",
       "      <td>38.667500</td>\n",
       "      <td>38.674999</td>\n",
       "      <td>39.025002</td>\n",
       "      <td>130108000.0</td>\n",
       "      <td>36.997929</td>\n",
       "      <td>0.437500</td>\n",
       "    </tr>\n",
       "  </tbody>\n",
       "</table>\n",
       "</div>"
      ],
      "text/plain": [
       "                 High        Low       Open      Close       Volume  \\\n",
       "Date                                                                  \n",
       "2017-05-08  38.424999  37.257500  37.257500  38.252499  195009600.0   \n",
       "2017-05-09  38.720001  38.362499  38.467499  38.497501  156521600.0   \n",
       "2017-05-10  38.485001  38.027500  38.407501  38.314999  103222800.0   \n",
       "2017-05-11  38.517502  38.077499  38.112499  38.487499  109020400.0   \n",
       "2017-05-12  39.105000  38.667500  38.674999  39.025002  130108000.0   \n",
       "\n",
       "            Adj Close     range  \n",
       "Date                             \n",
       "2017-05-08  36.116478  1.167500  \n",
       "2017-05-09  36.347801  0.357502  \n",
       "2017-05-10  36.175488  0.457500  \n",
       "2017-05-11  36.488346  0.440002  \n",
       "2017-05-12  36.997929  0.437500  "
      ]
     },
     "execution_count": 30,
     "metadata": {},
     "output_type": "execute_result"
    }
   ],
   "source": [
    "data['range'] = data['High'] - data['Low']\n",
    "data.head()"
   ]
  },
  {
   "cell_type": "code",
   "execution_count": 31,
   "metadata": {},
   "outputs": [
    {
     "data": {
      "image/png": "[encoded data removed]",
      "text/plain": [
       "<Figure size 432x288 with 1 Axes>"
      ]
     },
     "metadata": {
      "needs_background": "light"
     },
     "output_type": "display_data"
    }
   ],
   "source": [
    "plt.hist(data['range'], bins=40, color='g')\n",
    "plt.xlim([0, 18])\n",
    "plt.xlabel('Daily range')\n",
    "plt.ylabel('Count')\n",
    "plt.show()"
   ]
  }
 ],
 "metadata": {
  "hide_code_all_hidden": false,
  "interpreter": {
   "hash": "fccf4af24601f63d4dc7e4cfea909002a0a964b6ef1e66db731d4adba361d32c"
  },
  "kernelspec": {
   "display_name": "Python 3.10.2 64-bit",
   "language": "python",
   "name": "python3"
  },
  "language_info": {
   "codemirror_mode": {
    "name": "ipython",
    "version": 3
   },
   "file_extension": ".py",
   "mimetype": "text/x-python",
   "name": "python",
   "nbconvert_exporter": "python",
   "pygments_lexer": "ipython3",
   "version": "3.10.2"
  }
 },
 "nbformat": 4,
 "nbformat_minor": 2
}
