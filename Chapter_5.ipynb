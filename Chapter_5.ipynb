{
 "cells": [
  {
   "cell_type": "markdown",
   "metadata": {},
   "source": [
    "## chapter introduction by Halil Hasmer\n",
    "\n",
    "This chapter is like a python crash course for data types, loops and functions. map and lambda function intros were useful for me, otherwise they were basically what I already know.\n",
    "\n",
    "endnote: if we don't plan to change anything in a given dataset or we specifically don't want it to change (ie ticker names), we might wanna use tuples for them."
   ]
  },
  {
   "cell_type": "markdown",
   "metadata": {},
   "source": [
    "# Python for traders and investors -- Chapter 5 Python information superhighway\n",
    "## 5.1 Data structures\n",
    "__Lists__"
   ]
  },
  {
   "cell_type": "code",
   "execution_count": 408,
   "metadata": {},
   "outputs": [],
   "source": [
    "import pandas as pd\n",
    "import numpy as np\n",
    "import matplotlib.pyplot as plt"
   ]
  },
  {
   "cell_type": "code",
   "execution_count": 409,
   "metadata": {},
   "outputs": [
    {
     "data": {
      "text/plain": [
       "[2, 6, 10.8, 200]"
      ]
     },
     "execution_count": 409,
     "metadata": {},
     "output_type": "execute_result"
    }
   ],
   "source": [
    "a = [2, 6, 10.8, 200]\n",
    "a"
   ]
  },
  {
   "cell_type": "code",
   "execution_count": 410,
   "metadata": {},
   "outputs": [
    {
     "data": {
      "text/plain": [
       "[200, 10.8, 6, 2]"
      ]
     },
     "execution_count": 410,
     "metadata": {},
     "output_type": "execute_result"
    }
   ],
   "source": [
    "list(reversed(a))"
   ]
  },
  {
   "cell_type": "code",
   "execution_count": 411,
   "metadata": {},
   "outputs": [],
   "source": [
    "stocks = ['AMZN', 'GOOGL', 'KO']"
   ]
  },
  {
   "cell_type": "code",
   "execution_count": 412,
   "metadata": {},
   "outputs": [],
   "source": [
    "mix = [2, 'AMZN', 'price']"
   ]
  },
  {
   "cell_type": "code",
   "execution_count": 413,
   "metadata": {},
   "outputs": [],
   "source": [
    "# Create an empty list\n",
    "b = []"
   ]
  },
  {
   "cell_type": "code",
   "execution_count": 414,
   "metadata": {},
   "outputs": [
    {
     "data": {
      "text/plain": [
       "[1]"
      ]
     },
     "execution_count": 414,
     "metadata": {},
     "output_type": "execute_result"
    }
   ],
   "source": [
    "# Add a single element to the end of the list\n",
    "b.append(1)\n",
    "b"
   ]
  },
  {
   "cell_type": "code",
   "execution_count": 415,
   "metadata": {},
   "outputs": [
    {
     "data": {
      "text/plain": [
       "[6, 10.8, 200]"
      ]
     },
     "execution_count": 415,
     "metadata": {},
     "output_type": "execute_result"
    }
   ],
   "source": [
    "# Remove a particular element\n",
    "# a = [2, 6, 10.8, 200]\n",
    "a.remove(2)\n",
    "a"
   ]
  },
  {
   "cell_type": "code",
   "execution_count": 416,
   "metadata": {},
   "outputs": [
    {
     "data": {
      "text/plain": [
       "[1, 2]"
      ]
     },
     "execution_count": 416,
     "metadata": {},
     "output_type": "execute_result"
    }
   ],
   "source": [
    "b.append(2)\n",
    "b"
   ]
  },
  {
   "cell_type": "code",
   "execution_count": 417,
   "metadata": {},
   "outputs": [
    {
     "data": {
      "text/plain": [
       "[6, 10.8, 200, 1, 2]"
      ]
     },
     "execution_count": 417,
     "metadata": {},
     "output_type": "execute_result"
    }
   ],
   "source": [
    "# Concatenate list to another List\n",
    "a.extend(b)\n",
    "a"
   ]
  },
  {
   "cell_type": "code",
   "execution_count": 418,
   "metadata": {},
   "outputs": [
    {
     "data": {
      "text/plain": [
       "[6, 10.8, 200, 1, 2, 1, 2]"
      ]
     },
     "execution_count": 418,
     "metadata": {},
     "output_type": "execute_result"
    }
   ],
   "source": [
    "# We can also use '+' to concatenate two lists:\n",
    "a + b"
   ]
  },
  {
   "cell_type": "code",
   "execution_count": 419,
   "metadata": {},
   "outputs": [
    {
     "data": {
      "text/plain": [
       "[1, 2, 6, 10.8, 200]"
      ]
     },
     "execution_count": 419,
     "metadata": {},
     "output_type": "execute_result"
    }
   ],
   "source": [
    "# Sort the list\n",
    "a.sort()\n",
    "a"
   ]
  },
  {
   "cell_type": "code",
   "execution_count": 420,
   "metadata": {},
   "outputs": [
    {
     "name": "stdout",
     "output_type": "stream",
     "text": [
      "[1, 2, 6, 10.8, 200, 'b']\n"
     ]
    }
   ],
   "source": [
    "b = a + [\"b\"]\n",
    "print(b)\n",
    "# print(b.sort()) -> TypeError: '<' not supported between instances of 'str' and 'int'"
   ]
  },
  {
   "cell_type": "markdown",
   "metadata": {},
   "source": [
    "__Dictionaries__\n",
    "\n",
    "Dictionaries are another data type similar to lists, arrays and strings. They simply contain a collection of key/value pairs. Dictionaries are heavily used in quant applications. To denote a dictionary we use curly braces **{}**. Here is an example:"
   ]
  },
  {
   "cell_type": "code",
   "execution_count": 421,
   "metadata": {},
   "outputs": [],
   "source": [
    "# declare a dict\n",
    "performance_dict = {'PnL':14.34, 'Sharpe':2.12, 'Max drawdown':0.16, 'Beta': 0.21}"
   ]
  },
  {
   "cell_type": "code",
   "execution_count": 422,
   "metadata": {},
   "outputs": [
    {
     "data": {
      "text/plain": [
       "14.34"
      ]
     },
     "execution_count": 422,
     "metadata": {},
     "output_type": "execute_result"
    }
   ],
   "source": [
    "# Access the value of a particular key\n",
    "performance_dict['PnL']"
   ]
  },
  {
   "cell_type": "code",
   "execution_count": 423,
   "metadata": {},
   "outputs": [
    {
     "data": {
      "text/plain": [
       "{'PnL': 14.34,\n",
       " 'Sharpe': 2.12,\n",
       " 'Max drawdown': 0.16,\n",
       " 'Beta': 0.21,\n",
       " 'Sortino': 2.6}"
      ]
     },
     "execution_count": 423,
     "metadata": {},
     "output_type": "execute_result"
    }
   ],
   "source": [
    "# Add new contents into the dict\n",
    "performance_dict['Sortino'] = 2.6\n",
    "performance_dict"
   ]
  },
  {
   "cell_type": "code",
   "execution_count": 424,
   "metadata": {},
   "outputs": [
    {
     "data": {
      "text/plain": [
       "dict_keys(['PnL', 'Sharpe', 'Max drawdown', 'Beta', 'Sortino'])"
      ]
     },
     "execution_count": 424,
     "metadata": {},
     "output_type": "execute_result"
    }
   ],
   "source": [
    "# Get a list of the keys\n",
    "performance_dict.keys()"
   ]
  },
  {
   "cell_type": "code",
   "execution_count": 425,
   "metadata": {},
   "outputs": [
    {
     "data": {
      "text/plain": [
       "dict_values([14.34, 2.12, 0.16, 0.21, 2.6])"
      ]
     },
     "execution_count": 425,
     "metadata": {},
     "output_type": "execute_result"
    }
   ],
   "source": [
    "# Get a list of the values\n",
    "performance_dict.values()"
   ]
  },
  {
   "cell_type": "code",
   "execution_count": 426,
   "metadata": {},
   "outputs": [],
   "source": [
    "# Modify the value of a particular key:\n",
    "performance_dict['Beta'] = 0.3"
   ]
  },
  {
   "cell_type": "code",
   "execution_count": 427,
   "metadata": {},
   "outputs": [
    {
     "data": {
      "text/plain": [
       "{'PnL': 14.34,\n",
       " 'Sharpe': 2.12,\n",
       " 'Max drawdown': 0.16,\n",
       " 'Beta': 0.3,\n",
       " 'Sortino': 2.6,\n",
       " 'Trades': {'2017-11-01': 12, '2017-11-03': -4, '2017-11-05': 2}}"
      ]
     },
     "execution_count": 427,
     "metadata": {},
     "output_type": "execute_result"
    }
   ],
   "source": [
    "# We can have dicts of dicts:\n",
    "performance_dict['Trades'] = {'2017-11-01':12, '2017-11-03':-4, '2017-11-05':2}\n",
    "performance_dict"
   ]
  },
  {
   "cell_type": "markdown",
   "metadata": {},
   "source": [
    "__Converting 2 lists into a dict__"
   ]
  },
  {
   "cell_type": "code",
   "execution_count": 428,
   "metadata": {},
   "outputs": [],
   "source": [
    "# List of strings\n",
    "heading = ['Company', 'marketcap', 'volume', 'Beta (5Y Monthly)', 'EPS (TTM)', 'PE Ratio (TTM)']\n",
    "    \n",
    "# List of ints\n",
    "contents = ['AMZN', '916B', 2969044, 1.52, 22.57, 81.84]"
   ]
  },
  {
   "cell_type": "code",
   "execution_count": 429,
   "metadata": {},
   "outputs": [
    {
     "data": {
      "text/plain": [
       "{'Company': 'AMZN',\n",
       " 'marketcap': '916B',\n",
       " 'volume': 2969044,\n",
       " 'Beta (5Y Monthly)': 1.52,\n",
       " 'EPS (TTM)': 22.57,\n",
       " 'PE Ratio (TTM)': 81.84}"
      ]
     },
     "execution_count": 429,
     "metadata": {},
     "output_type": "execute_result"
    }
   ],
   "source": [
    "# Create a zip object\n",
    "zipbObj = zip(heading, contents)\n",
    " \n",
    "# Create a dictionary from zip object\n",
    "dict1 = dict(zipbObj)\n",
    "dict1"
   ]
  },
  {
   "cell_type": "markdown",
   "metadata": {},
   "source": [
    "## 5.2 Functions"
   ]
  },
  {
   "cell_type": "markdown",
   "metadata": {},
   "source": [
    "In many cases our programs have re-occuring bit of code that we don't want to write out over and over again. For those cases we should use functions. Functions also make our code cleaner and easier to read and we can do some interesting things with them. We define a function like this:"
   ]
  },
  {
   "cell_type": "code",
   "execution_count": 430,
   "metadata": {},
   "outputs": [],
   "source": [
    "def my_function(a, b):\n",
    "    return a+b"
   ]
  },
  {
   "cell_type": "code",
   "execution_count": 431,
   "metadata": {},
   "outputs": [
    {
     "data": {
      "text/plain": [
       "6"
      ]
     },
     "execution_count": 431,
     "metadata": {},
     "output_type": "execute_result"
    }
   ],
   "source": [
    "# Calling the function\n",
    "my_function(2, 4)"
   ]
  },
  {
   "cell_type": "code",
   "execution_count": 432,
   "metadata": {},
   "outputs": [],
   "source": [
    "#my_function(2,'hi')\n",
    "# TypeError: unsupported operand type(s) for +: 'int' and 'str'"
   ]
  },
  {
   "cell_type": "markdown",
   "metadata": {},
   "source": [
    "Unfortunately, this happens quite frequently in the real world. For example, when we connect to a data service and we get a bad data package from the internet, we get an error but we want our program to move on. Let's create such a situation and find a solution. First, we create two data packages: "
   ]
  },
  {
   "cell_type": "code",
   "execution_count": 433,
   "metadata": {},
   "outputs": [
    {
     "data": {
      "text/plain": [
       "[3, 4, 5, 'doh!', 7, 8]"
      ]
     },
     "execution_count": 433,
     "metadata": {},
     "output_type": "execute_result"
    }
   ],
   "source": [
    "# Create two data packages:\n",
    "package1 = list(range(10))\n",
    "package2 = list(range(10))\n",
    "\n",
    "# Now we introduce a bad value\n",
    "package2[6] = 'doh!'\n",
    "\n",
    "package2[3:9]"
   ]
  },
  {
   "cell_type": "markdown",
   "metadata": {},
   "source": [
    "Next, we create a function that processes the data. We run a for loop and add up the numbers:"
   ]
  },
  {
   "cell_type": "code",
   "execution_count": 434,
   "metadata": {},
   "outputs": [],
   "source": [
    "def adder(package1, package2):\n",
    "    for p1, p2 in zip(package1,package2):\n",
    "        print('p1:',p1,'|| p2:',p2,'|| sum of values:',p1+p2)"
   ]
  },
  {
   "cell_type": "markdown",
   "metadata": {},
   "source": [
    "Note that we use the *zip* function to iterate over two lists at once. The condition is that our lists have the same size.\n",
    "\n",
    "Let's now run the adder. We expect it to crash at p1=6 & p2=6:"
   ]
  },
  {
   "cell_type": "code",
   "execution_count": 435,
   "metadata": {},
   "outputs": [],
   "source": [
    "#adder(package1,package2)\n",
    "# TypeError: unsupported operand type(s) for +: 'int' and 'str'"
   ]
  },
  {
   "cell_type": "markdown",
   "metadata": {},
   "source": [
    "Since we don't want our program to terminate when the error occurs we can use an error handler that uses the *try:* and *except:* commands. Our new function would look like this:"
   ]
  },
  {
   "cell_type": "code",
   "execution_count": 436,
   "metadata": {},
   "outputs": [],
   "source": [
    "def adder(package1,package2):\n",
    "    for p1, p2 in zip(package1,package2):\n",
    "        try:\n",
    "            print('p1:',p1,'|| p2:',p2,'|| sum of values:',p1+p2)\n",
    "        except TypeError:\n",
    "            print('*** Could not calculate the right value ***')"
   ]
  },
  {
   "cell_type": "code",
   "execution_count": 437,
   "metadata": {},
   "outputs": [
    {
     "name": "stdout",
     "output_type": "stream",
     "text": [
      "p1: 0 || p2: 0 || sum of values: 0\n",
      "p1: 1 || p2: 1 || sum of values: 2\n",
      "p1: 2 || p2: 2 || sum of values: 4\n",
      "p1: 3 || p2: 3 || sum of values: 6\n",
      "p1: 4 || p2: 4 || sum of values: 8\n",
      "p1: 5 || p2: 5 || sum of values: 10\n",
      "*** Could not calculate the right value ***\n",
      "p1: 7 || p2: 7 || sum of values: 14\n",
      "p1: 8 || p2: 8 || sum of values: 16\n",
      "p1: 9 || p2: 9 || sum of values: 18\n"
     ]
    }
   ],
   "source": [
    "adder(package1,package2)"
   ]
  },
  {
   "cell_type": "markdown",
   "metadata": {},
   "source": [
    "Now our function runs smoothly to the end and only gives us a warning. In many cases we can't be sure what the nature of our error is. We still want the error message without the program stopping. The package *traceback* can help us with this. In the next example we are not plotting all the values anymore"
   ]
  },
  {
   "cell_type": "code",
   "execution_count": 438,
   "metadata": {},
   "outputs": [
    {
     "name": "stdout",
     "output_type": "stream",
     "text": [
      "0\n",
      "2\n",
      "4\n",
      "6\n",
      "8\n",
      "10\n",
      "Values to be processed --> p1: 6 || p2: doh!\n",
      "*** Could not calculate the right value *** Traceback (most recent call last):\n",
      "  File \"C:\\Users\\User\\AppData\\Local\\Temp\\ipykernel_17456\\3158205446.py\", line 6, in adder\n",
      "    print(p1+p2)\n",
      "TypeError: unsupported operand type(s) for +: 'int' and 'str'\n",
      "\n",
      "14\n",
      "16\n",
      "18\n"
     ]
    }
   ],
   "source": [
    "import traceback\n",
    "\n",
    "def adder(package1,package2):\n",
    "    for p1,p2 in zip(package1,package2):\n",
    "        try:\n",
    "            print(p1+p2)\n",
    "        except TypeError:\n",
    "            print('Values to be processed --> p1:',p1,'|| p2:',p2)\n",
    "            print('*** Could not calculate the right value ***',traceback.format_exc())\n",
    "\n",
    "adder(package1,package2)"
   ]
  },
  {
   "cell_type": "markdown",
   "metadata": {},
   "source": [
    "Now we can analyse our error more closely."
   ]
  },
  {
   "cell_type": "markdown",
   "metadata": {},
   "source": [
    "## 5.3 More functions"
   ]
  },
  {
   "cell_type": "markdown",
   "metadata": {},
   "source": [
    "Functions can have default arguments which may or may not be specified when a function is called:"
   ]
  },
  {
   "cell_type": "code",
   "execution_count": 439,
   "metadata": {},
   "outputs": [
    {
     "name": "stdout",
     "output_type": "stream",
     "text": [
      "7\n",
      "7\n",
      "12\n",
      "-1\n"
     ]
    }
   ],
   "source": [
    "def my_fun(a, b, mode='add'):\n",
    "    if mode == 'add':\n",
    "        return a+b\n",
    "    elif mode == 'multiply':\n",
    "        return a*b\n",
    "    else:\n",
    "        return a-b\n",
    "    \n",
    "print(my_fun(3,4))\n",
    "print(my_fun(3,4,mode='add'))\n",
    "print(my_fun(3,4,mode='multiply'))\n",
    "print(my_fun(3,4,mode='subtract'))"
   ]
  },
  {
   "cell_type": "markdown",
   "metadata": {},
   "source": [
    "As you can see, we can either include the default argument or leave them out. Our functions also used a conditional statetment if..elif..else. This is quite self-explainatory: \"do this if condition A, otherwise do something else.\n",
    "\n",
    "Function can also have arbitrary numbers of input arguments:"
   ]
  },
  {
   "cell_type": "code",
   "execution_count": 440,
   "metadata": {},
   "outputs": [
    {
     "name": "stdout",
     "output_type": "stream",
     "text": [
      "1\n",
      "10\n",
      "more than 2 args supplied\n",
      "No values supplied\n"
     ]
    }
   ],
   "source": [
    "def arb_fun(*args):\n",
    "    if len(args)==1:\n",
    "        return args[0]\n",
    "    elif len(args)==2:\n",
    "        return args[0]*args[1]\n",
    "    elif len(args)>2:\n",
    "        return 'more than 2 args supplied'\n",
    "    else:\n",
    "        return 'No values supplied'\n",
    "    \n",
    "print(arb_fun(1))\n",
    "print(arb_fun(5,2))\n",
    "print(arb_fun(3,1,5,4))\n",
    "print(arb_fun())"
   ]
  },
  {
   "cell_type": "markdown",
   "metadata": {},
   "source": [
    "We can also use functions as input variables of other functions. This happens a lot when we run optimisation routines, which we will see later. For now, please have a look at this simple example:"
   ]
  },
  {
   "cell_type": "code",
   "execution_count": 441,
   "metadata": {},
   "outputs": [
    {
     "name": "stdout",
     "output_type": "stream",
     "text": [
      "625\n",
      "5.0\n"
     ]
    }
   ],
   "source": [
    "def square(a):\n",
    "    return a**2\n",
    "\n",
    "def root(a):\n",
    "    return a**0.5\n",
    "\n",
    "def complex_fun(f,x):\n",
    "    return f(x)\n",
    "\n",
    "print(complex_fun(square, 25))\n",
    "print(complex_fun(root, 25))"
   ]
  },
  {
   "cell_type": "markdown",
   "metadata": {},
   "source": [
    "__The range() function__"
   ]
  },
  {
   "cell_type": "code",
   "execution_count": 442,
   "metadata": {},
   "outputs": [
    {
     "data": {
      "text/plain": [
       "range(0, 5)"
      ]
     },
     "execution_count": 442,
     "metadata": {},
     "output_type": "execute_result"
    }
   ],
   "source": [
    "range(5)"
   ]
  },
  {
   "cell_type": "code",
   "execution_count": 443,
   "metadata": {},
   "outputs": [
    {
     "name": "stdout",
     "output_type": "stream",
     "text": [
      "0\n",
      "1\n",
      "2\n",
      "3\n",
      "4\n"
     ]
    }
   ],
   "source": [
    "# In the For loop\n",
    "for i in range(5):\n",
    "    print(i)"
   ]
  },
  {
   "cell_type": "code",
   "execution_count": 444,
   "metadata": {},
   "outputs": [
    {
     "data": {
      "text/plain": [
       "[0, 1, 2, 3, 4]"
      ]
     },
     "execution_count": 444,
     "metadata": {},
     "output_type": "execute_result"
    }
   ],
   "source": [
    "# Generating a sequence\n",
    "# Only specify the end point\n",
    "list(range(5))"
   ]
  },
  {
   "cell_type": "code",
   "execution_count": 445,
   "metadata": {},
   "outputs": [
    {
     "data": {
      "text/plain": [
       "[2, 3, 4, 5, 6, 7]"
      ]
     },
     "execution_count": 445,
     "metadata": {},
     "output_type": "execute_result"
    }
   ],
   "source": [
    "# Also specify the starting point\n",
    "list(range(2, 8))"
   ]
  },
  {
   "cell_type": "code",
   "execution_count": 446,
   "metadata": {},
   "outputs": [
    {
     "data": {
      "text/plain": [
       "[2, 4, 6]"
      ]
     },
     "execution_count": 446,
     "metadata": {},
     "output_type": "execute_result"
    }
   ],
   "source": [
    "# Also specify the step\n",
    "list(range(2, 8, 2))"
   ]
  },
  {
   "cell_type": "code",
   "execution_count": 447,
   "metadata": {},
   "outputs": [
    {
     "data": {
      "text/plain": [
       "[2, 0, -2, -4]"
      ]
     },
     "execution_count": 447,
     "metadata": {},
     "output_type": "execute_result"
    }
   ],
   "source": [
    "# We can have a descending sequence\n",
    "list(range(2, -6, -2))"
   ]
  },
  {
   "cell_type": "markdown",
   "metadata": {},
   "source": [
    "## 5.4 Pythonic Tricks (1) -- Map and Lambda"
   ]
  },
  {
   "cell_type": "markdown",
   "metadata": {},
   "source": [
    "__Map__\n",
    "\n",
    "With map we can apply a function to a list in a convenient way without having to write a loop."
   ]
  },
  {
   "cell_type": "code",
   "execution_count": 448,
   "metadata": {},
   "outputs": [
    {
     "data": {
      "text/plain": [
       "array([ 1.61501022, -1.82860759,  1.69196607, -1.25575214,  0.32128973])"
      ]
     },
     "execution_count": 448,
     "metadata": {},
     "output_type": "execute_result"
    }
   ],
   "source": [
    "import numpy as np\n",
    "my_list = np.random.randn(5)\n",
    "my_list"
   ]
  },
  {
   "cell_type": "markdown",
   "metadata": {},
   "source": [
    "Now we are mapping the sign function to the list."
   ]
  },
  {
   "cell_type": "code",
   "execution_count": 449,
   "metadata": {},
   "outputs": [
    {
     "data": {
      "text/plain": [
       "[1.0, -1.0, 1.0, -1.0, 1.0]"
      ]
     },
     "execution_count": 449,
     "metadata": {},
     "output_type": "execute_result"
    }
   ],
   "source": [
    "list(map(np.sign, my_list))"
   ]
  },
  {
   "cell_type": "code",
   "execution_count": 450,
   "metadata": {},
   "outputs": [
    {
     "data": {
      "text/plain": [
       "[1.0, -1.0, 1.0, -1.0, 1.0]"
      ]
     },
     "execution_count": 450,
     "metadata": {},
     "output_type": "execute_result"
    }
   ],
   "source": [
    "list(np.sign(my_list))"
   ]
  },
  {
   "cell_type": "markdown",
   "metadata": {},
   "source": [
    "Another example, turning a list of floats into a list of strings:"
   ]
  },
  {
   "cell_type": "code",
   "execution_count": 451,
   "metadata": {},
   "outputs": [
    {
     "data": {
      "text/plain": [
       "['1.6150102153705952',\n",
       " '-1.8286075883061954',\n",
       " '1.6919660689454277',\n",
       " '-1.2557521369939941',\n",
       " '0.3212897302628463']"
      ]
     },
     "execution_count": 451,
     "metadata": {},
     "output_type": "execute_result"
    }
   ],
   "source": [
    "# apply the str function (1st argument) to the list of iterables (2nd argument)\n",
    "\n",
    "list(map(str, my_list))"
   ]
  },
  {
   "cell_type": "code",
   "execution_count": 452,
   "metadata": {},
   "outputs": [
    {
     "data": {
      "text/plain": [
       "['1.6150102153705952',\n",
       " '-1.8286075883061954',\n",
       " '1.6919660689454277',\n",
       " '-1.2557521369939941',\n",
       " '0.3212897302628463']"
      ]
     },
     "execution_count": 452,
     "metadata": {},
     "output_type": "execute_result"
    }
   ],
   "source": [
    "list(str(item) for item in my_list)"
   ]
  },
  {
   "cell_type": "markdown",
   "metadata": {},
   "source": [
    "__Lambda functions__"
   ]
  },
  {
   "cell_type": "code",
   "execution_count": 453,
   "metadata": {},
   "outputs": [
    {
     "data": {
      "text/plain": [
       "120"
      ]
     },
     "execution_count": 453,
     "metadata": {},
     "output_type": "execute_result"
    }
   ],
   "source": [
    "# lambda functions operate as every function. takes arguments and passes it along the operation you code.\n",
    "\n",
    "anon = lambda x: 4*x**2 + 3*x + 5\n",
    "anon(5)"
   ]
  },
  {
   "cell_type": "code",
   "execution_count": 454,
   "metadata": {},
   "outputs": [
    {
     "data": {
      "text/plain": [
       "31"
      ]
     },
     "execution_count": 454,
     "metadata": {},
     "output_type": "execute_result"
    }
   ],
   "source": [
    "anon_2 = lambda x,y: 2*x**2 + 4*y + 3\n",
    "\n",
    "anon_2(2,5)"
   ]
  },
  {
   "cell_type": "code",
   "execution_count": 455,
   "metadata": {},
   "outputs": [],
   "source": [
    "# map function takes two arguments. first is what to do aka operant, second is to what it would do the operation declared in the first argument aka iterable\n",
    "\n",
    "#list(map(lambda x: 4*x**2 + 3*x + 5, range(-10, 10)))"
   ]
  },
  {
   "cell_type": "code",
   "execution_count": 456,
   "metadata": {},
   "outputs": [
    {
     "data": {
      "image/png": "[encoded data removed]",
      "text/plain": [
       "<Figure size 432x288 with 1 Axes>"
      ]
     },
     "metadata": {
      "needs_background": "light"
     },
     "output_type": "display_data"
    }
   ],
   "source": [
    "plt.plot(range(-10,10), list(map(lambda x: 4*x**2 + 3*x + 5, \n",
    "                                 range(-10,10))), '-o')\n",
    "\n",
    "plt.grid()\n",
    "plt.show()"
   ]
  },
  {
   "cell_type": "markdown",
   "metadata": {},
   "source": [
    "We put the lambda in a map function and with one line of code we could plot a complex function. No loops, no function declarations. I admit, it will take a moment to read that line and understand it.\n",
    "\n",
    "It can also be useful in optimisations. Let's find the minimum of our function:"
   ]
  },
  {
   "cell_type": "code",
   "execution_count": 457,
   "metadata": {},
   "outputs": [
    {
     "data": {
      "text/plain": [
       "array([-0.375])"
      ]
     },
     "execution_count": 457,
     "metadata": {},
     "output_type": "execute_result"
    }
   ],
   "source": [
    "from scipy.optimize import minimize\n",
    "\n",
    "x = minimize(lambda x: 4*x**2 + 3*x + 5,0)['x']\n",
    "x"
   ]
  },
  {
   "cell_type": "code",
   "execution_count": 458,
   "metadata": {},
   "outputs": [
    {
     "data": {
      "text/plain": [
       "array([4.4375])"
      ]
     },
     "execution_count": 458,
     "metadata": {},
     "output_type": "execute_result"
    }
   ],
   "source": [
    "# inserting x into equation\n",
    "4*x**2 + 3*x +5"
   ]
  },
  {
   "cell_type": "code",
   "execution_count": 459,
   "metadata": {},
   "outputs": [
    {
     "data": {
      "text/plain": [
       "      fun: 4.4375\n",
       " hess_inv: array([[1]])\n",
       "      jac: array([1.1920929e-07])\n",
       "  message: 'Optimization terminated successfully.'\n",
       "     nfev: 6\n",
       "      nit: 1\n",
       "     njev: 3\n",
       "   status: 0\n",
       "  success: True\n",
       "        x: array([-0.375])"
      ]
     },
     "execution_count": 459,
     "metadata": {},
     "output_type": "execute_result"
    }
   ],
   "source": [
    "# Test:\n",
    "min_value = minimize(lambda x: 4*x**2 + 3*x + 5,0)\n",
    "min_value\n",
    "\n",
    "# the 'x' in the output is not representing the x in the equation by notation, but by meaning it does represent it"
   ]
  },
  {
   "cell_type": "code",
   "execution_count": 460,
   "metadata": {},
   "outputs": [
    {
     "data": {
      "text/plain": [
       "4.4375"
      ]
     },
     "execution_count": 460,
     "metadata": {},
     "output_type": "execute_result"
    }
   ],
   "source": [
    "min_value['fun']"
   ]
  },
  {
   "cell_type": "markdown",
   "metadata": {},
   "source": [
    "## 5.5 Powerful loops\n",
    "__For loops__"
   ]
  },
  {
   "cell_type": "code",
   "execution_count": 461,
   "metadata": {},
   "outputs": [
    {
     "data": {
      "text/plain": [
       "['H0', 'H1', 'H2', 'i0', 'i1', 'i2']"
      ]
     },
     "execution_count": 461,
     "metadata": {},
     "output_type": "execute_result"
    }
   ],
   "source": [
    "temp = []\n",
    "for i in 'Hi':\n",
    "    for j in range(3):\n",
    "        temp.append(i+str(j))\n",
    "        \n",
    "temp"
   ]
  },
  {
   "cell_type": "markdown",
   "metadata": {},
   "source": [
    "__While loops__\n",
    "\n",
    "While loops are like for loops with the difference that they terminate when a certain condition is False.\n",
    "**_while True: pass_**\n",
    "will run forever because it is never false. Here an example that will terminate:"
   ]
  },
  {
   "cell_type": "code",
   "execution_count": 462,
   "metadata": {},
   "outputs": [
    {
     "name": "stdout",
     "output_type": "stream",
     "text": [
      "0\n",
      "1\n",
      "2\n",
      "3\n",
      "4\n"
     ]
    }
   ],
   "source": [
    "a = 0\n",
    "while a < 5:\n",
    "    print(a)\n",
    "    a += 1"
   ]
  },
  {
   "cell_type": "markdown",
   "metadata": {},
   "source": [
    "We can also use the break statement to terminate (any) loop:"
   ]
  },
  {
   "cell_type": "code",
   "execution_count": 463,
   "metadata": {},
   "outputs": [
    {
     "name": "stdout",
     "output_type": "stream",
     "text": [
      "0\n",
      "1\n",
      "2\n",
      "3\n"
     ]
    }
   ],
   "source": [
    "a = 0\n",
    "while True:\n",
    "    print(a)\n",
    "    a += 1\n",
    "    if a == 4:\n",
    "        break"
   ]
  },
  {
   "cell_type": "markdown",
   "metadata": {},
   "source": [
    "__List comprehensions__\n",
    "\n",
    "List comprehensions are loops in a compressed form that output lists, tuples or dicts. Lets have a look at this loop:"
   ]
  },
  {
   "cell_type": "code",
   "execution_count": 464,
   "metadata": {},
   "outputs": [
    {
     "name": "stdout",
     "output_type": "stream",
     "text": [
      "[0, 2, 4, 6, 8]\n",
      "[0, 2, 4, 6, 8]\n"
     ]
    }
   ],
   "source": [
    "k = []\n",
    "for i in range(10):\n",
    "    if i%2 == 0:\n",
    "        k.append(i)\n",
    "        \n",
    "print(k)\n",
    "\n",
    "#my one-liner\n",
    "print([i for i in range(10) if i%2==0])"
   ]
  },
  {
   "cell_type": "code",
   "execution_count": 465,
   "metadata": {},
   "outputs": [
    {
     "data": {
      "text/plain": [
       "[0, 2, 4, 6, 8]"
      ]
     },
     "execution_count": 465,
     "metadata": {},
     "output_type": "execute_result"
    }
   ],
   "source": [
    "# Compressing the above codes into one line:\n",
    "[i for i in range(10) if not i%2]"
   ]
  },
  {
   "cell_type": "code",
   "execution_count": 466,
   "metadata": {},
   "outputs": [
    {
     "data": {
      "text/plain": [
       "['Even', 'Odd', 'Even', 'Odd', 'Even', 'Odd', 'Even', 'Odd', 'Even', 'Odd']"
      ]
     },
     "execution_count": 466,
     "metadata": {},
     "output_type": "execute_result"
    }
   ],
   "source": [
    "# 'if else' in list comprehensions\n",
    "[\"Even\" if i%2==0 else \"Odd\" for i in range(10)]"
   ]
  },
  {
   "cell_type": "code",
   "execution_count": 467,
   "metadata": {},
   "outputs": [
    {
     "data": {
      "text/plain": [
       "{'AAPL': 4, 'AMZN': 4, 'IBM': 3, 'FB': 2}"
      ]
     },
     "execution_count": 467,
     "metadata": {},
     "output_type": "execute_result"
    }
   ],
   "source": [
    "# List comprehension for a dictionary:\n",
    "{ticker:len(ticker) for ticker in ['AAPL', 'AMZN', 'IBM', 'FB']}"
   ]
  },
  {
   "cell_type": "code",
   "execution_count": 468,
   "metadata": {},
   "outputs": [
    {
     "data": {
      "text/plain": [
       "[('AAPL', 4), ('AMZN', 4), ('IBM', 3), ('FB', 2)]"
      ]
     },
     "execution_count": 468,
     "metadata": {},
     "output_type": "execute_result"
    }
   ],
   "source": [
    "# List comprehension for tuples:\n",
    "[(ticker, len(ticker)) for ticker in ['AAPL', 'AMZN', 'IBM', 'FB']]"
   ]
  },
  {
   "cell_type": "code",
   "execution_count": null,
   "metadata": {},
   "outputs": [],
   "source": []
  }
 ],
 "metadata": {
  "hide_code_all_hidden": false,
  "kernelspec": {
   "display_name": "Python 3",
   "language": "python",
   "name": "python3"
  },
  "language_info": {
   "codemirror_mode": {
    "name": "ipython",
    "version": 3
   },
   "file_extension": ".py",
   "mimetype": "text/x-python",
   "name": "python",
   "nbconvert_exporter": "python",
   "pygments_lexer": "ipython3",
   "version": "3.10.0"
  }
 },
 "nbformat": 4,
 "nbformat_minor": 2
}
