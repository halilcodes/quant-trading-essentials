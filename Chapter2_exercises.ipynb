{
 "cells": [
  {
   "cell_type": "markdown",
   "metadata": {},
   "source": [
    "## *Exercise 2.1*\n",
    "_Download price data for Google with the pandas data reader and specify a start and end date for the data._\n",
    "\n",
    "_Hint: you will find the instructions on this website:_\n",
    "https://stackoverflow.com/questions/22991567/pandas-yahoo-finance-datareader "
   ]
  },
  {
   "cell_type": "code",
   "execution_count": 1,
   "metadata": {},
   "outputs": [
    {
     "name": "stdout",
     "output_type": "stream",
     "text": [
      "[*********************100%***********************]  1 of 1 completed\n"
     ]
    },
    {
     "data": {
      "text/html": [
       "<div>\n",
       "<style scoped>\n",
       "    .dataframe tbody tr th:only-of-type {\n",
       "        vertical-align: middle;\n",
       "    }\n",
       "\n",
       "    .dataframe tbody tr th {\n",
       "        vertical-align: top;\n",
       "    }\n",
       "\n",
       "    .dataframe thead th {\n",
       "        text-align: right;\n",
       "    }\n",
       "</style>\n",
       "<table border=\"1\" class=\"dataframe\">\n",
       "  <thead>\n",
       "    <tr style=\"text-align: right;\">\n",
       "      <th></th>\n",
       "      <th>Open</th>\n",
       "      <th>High</th>\n",
       "      <th>Low</th>\n",
       "      <th>Close</th>\n",
       "      <th>Adj Close</th>\n",
       "      <th>Volume</th>\n",
       "    </tr>\n",
       "    <tr>\n",
       "      <th>Date</th>\n",
       "      <th></th>\n",
       "      <th></th>\n",
       "      <th></th>\n",
       "      <th></th>\n",
       "      <th></th>\n",
       "      <th></th>\n",
       "    </tr>\n",
       "  </thead>\n",
       "  <tbody>\n",
       "    <tr>\n",
       "      <th>2018-05-14</th>\n",
       "      <td>1105.569946</td>\n",
       "      <td>1118.150024</td>\n",
       "      <td>1104.800049</td>\n",
       "      <td>1106.599976</td>\n",
       "      <td>1106.599976</td>\n",
       "      <td>1966900</td>\n",
       "    </tr>\n",
       "    <tr>\n",
       "      <th>2018-05-15</th>\n",
       "      <td>1096.900024</td>\n",
       "      <td>1099.119995</td>\n",
       "      <td>1078.780029</td>\n",
       "      <td>1084.869995</td>\n",
       "      <td>1084.869995</td>\n",
       "      <td>1786900</td>\n",
       "    </tr>\n",
       "    <tr>\n",
       "      <th>2018-05-16</th>\n",
       "      <td>1085.089966</td>\n",
       "      <td>1094.380005</td>\n",
       "      <td>1081.630005</td>\n",
       "      <td>1084.089966</td>\n",
       "      <td>1084.089966</td>\n",
       "      <td>1281400</td>\n",
       "    </tr>\n",
       "    <tr>\n",
       "      <th>2018-05-17</th>\n",
       "      <td>1081.459961</td>\n",
       "      <td>1091.000000</td>\n",
       "      <td>1076.420044</td>\n",
       "      <td>1081.260010</td>\n",
       "      <td>1081.260010</td>\n",
       "      <td>1286900</td>\n",
       "    </tr>\n",
       "    <tr>\n",
       "      <th>2018-05-18</th>\n",
       "      <td>1066.000000</td>\n",
       "      <td>1073.729980</td>\n",
       "      <td>1064.680054</td>\n",
       "      <td>1069.640015</td>\n",
       "      <td>1069.640015</td>\n",
       "      <td>1774100</td>\n",
       "    </tr>\n",
       "  </tbody>\n",
       "</table>\n",
       "</div>"
      ],
      "text/plain": [
       "                   Open         High          Low        Close    Adj Close  \\\n",
       "Date                                                                          \n",
       "2018-05-14  1105.569946  1118.150024  1104.800049  1106.599976  1106.599976   \n",
       "2018-05-15  1096.900024  1099.119995  1078.780029  1084.869995  1084.869995   \n",
       "2018-05-16  1085.089966  1094.380005  1081.630005  1084.089966  1084.089966   \n",
       "2018-05-17  1081.459961  1091.000000  1076.420044  1081.260010  1081.260010   \n",
       "2018-05-18  1066.000000  1073.729980  1064.680054  1069.640015  1069.640015   \n",
       "\n",
       "             Volume  \n",
       "Date                 \n",
       "2018-05-14  1966900  \n",
       "2018-05-15  1786900  \n",
       "2018-05-16  1281400  \n",
       "2018-05-17  1286900  \n",
       "2018-05-18  1774100  "
      ]
     },
     "execution_count": 1,
     "metadata": {},
     "output_type": "execute_result"
    }
   ],
   "source": [
    "# Solution\n",
    "import yfinance as yf\n",
    "\n",
    "df_googl = yf.download('GOOGL', start=\"2018-05-15\", end=\"2022-05-01\")\n",
    "df_googl.head()"
   ]
  },
  {
   "cell_type": "markdown",
   "metadata": {},
   "source": [
    "## *Exercise 2.2*\n",
    "*How long is the output and what data type is it?*"
   ]
  },
  {
   "cell_type": "code",
   "execution_count": 2,
   "metadata": {},
   "outputs": [
    {
     "name": "stdout",
     "output_type": "stream",
     "text": [
      "999\n",
      "<class 'pandas.core.frame.DataFrame'>\n"
     ]
    }
   ],
   "source": [
    "# Solution\n",
    "print(len(df_googl))\n",
    "print(type(df_googl))\n"
   ]
  },
  {
   "cell_type": "markdown",
   "metadata": {},
   "source": [
    "## *Exercise 2.3*\n",
    "*What are the column names of your new data?*"
   ]
  },
  {
   "cell_type": "code",
   "execution_count": 3,
   "metadata": {},
   "outputs": [
    {
     "name": "stdout",
     "output_type": "stream",
     "text": [
      "['Open', 'High', 'Low', 'Close', 'Adj Close', 'Volume']\n"
     ]
    },
    {
     "data": {
      "text/plain": [
       "Index(['Open', 'High', 'Low', 'Close', 'Adj Close', 'Volume'], dtype='object')"
      ]
     },
     "execution_count": 3,
     "metadata": {},
     "output_type": "execute_result"
    }
   ],
   "source": [
    "# Solution\n",
    "print(list(df_googl))\n",
    "df_googl.columns"
   ]
  },
  {
   "cell_type": "markdown",
   "metadata": {},
   "source": [
    "## _Exercise 2.4_\n",
    "_Save the data in a csv file called 'output.csv'._"
   ]
  },
  {
   "cell_type": "code",
   "execution_count": 4,
   "metadata": {},
   "outputs": [],
   "source": [
    "# Solution\n",
    "import pandas as pd\n",
    "\n",
    "df_googl.to_csv(\"output.csv\") # I commented this because I don't want to save a new file every time\n"
   ]
  },
  {
   "cell_type": "markdown",
   "metadata": {},
   "source": [
    "## _Exercise 2.5_\n",
    "_Loop through the whole 'output.csv' file and do the daily range calculation. There is a little twist, see if you can figure it out._"
   ]
  },
  {
   "cell_type": "code",
   "execution_count": 5,
   "metadata": {},
   "outputs": [
    {
     "data": {
      "text/html": [
       "<div>\n",
       "<style scoped>\n",
       "    .dataframe tbody tr th:only-of-type {\n",
       "        vertical-align: middle;\n",
       "    }\n",
       "\n",
       "    .dataframe tbody tr th {\n",
       "        vertical-align: top;\n",
       "    }\n",
       "\n",
       "    .dataframe thead th {\n",
       "        text-align: right;\n",
       "    }\n",
       "</style>\n",
       "<table border=\"1\" class=\"dataframe\">\n",
       "  <thead>\n",
       "    <tr style=\"text-align: right;\">\n",
       "      <th></th>\n",
       "      <th>Open</th>\n",
       "      <th>High</th>\n",
       "      <th>Low</th>\n",
       "      <th>Close</th>\n",
       "      <th>Adj Close</th>\n",
       "      <th>Volume</th>\n",
       "    </tr>\n",
       "    <tr>\n",
       "      <th>Date</th>\n",
       "      <th></th>\n",
       "      <th></th>\n",
       "      <th></th>\n",
       "      <th></th>\n",
       "      <th></th>\n",
       "      <th></th>\n",
       "    </tr>\n",
       "  </thead>\n",
       "  <tbody>\n",
       "    <tr>\n",
       "      <th>2018-05-14</th>\n",
       "      <td>1105.569946</td>\n",
       "      <td>1118.150024</td>\n",
       "      <td>1104.800049</td>\n",
       "      <td>1106.599976</td>\n",
       "      <td>1106.599976</td>\n",
       "      <td>1966900</td>\n",
       "    </tr>\n",
       "    <tr>\n",
       "      <th>2018-05-15</th>\n",
       "      <td>1096.900024</td>\n",
       "      <td>1099.119995</td>\n",
       "      <td>1078.780029</td>\n",
       "      <td>1084.869995</td>\n",
       "      <td>1084.869995</td>\n",
       "      <td>1786900</td>\n",
       "    </tr>\n",
       "    <tr>\n",
       "      <th>2018-05-16</th>\n",
       "      <td>1085.089966</td>\n",
       "      <td>1094.380005</td>\n",
       "      <td>1081.630005</td>\n",
       "      <td>1084.089966</td>\n",
       "      <td>1084.089966</td>\n",
       "      <td>1281400</td>\n",
       "    </tr>\n",
       "    <tr>\n",
       "      <th>2018-05-17</th>\n",
       "      <td>1081.459961</td>\n",
       "      <td>1091.000000</td>\n",
       "      <td>1076.420044</td>\n",
       "      <td>1081.260010</td>\n",
       "      <td>1081.260010</td>\n",
       "      <td>1286900</td>\n",
       "    </tr>\n",
       "    <tr>\n",
       "      <th>2018-05-18</th>\n",
       "      <td>1066.000000</td>\n",
       "      <td>1073.729980</td>\n",
       "      <td>1064.680054</td>\n",
       "      <td>1069.640015</td>\n",
       "      <td>1069.640015</td>\n",
       "      <td>1774100</td>\n",
       "    </tr>\n",
       "  </tbody>\n",
       "</table>\n",
       "</div>"
      ],
      "text/plain": [
       "                   Open         High          Low        Close    Adj Close  \\\n",
       "Date                                                                          \n",
       "2018-05-14  1105.569946  1118.150024  1104.800049  1106.599976  1106.599976   \n",
       "2018-05-15  1096.900024  1099.119995  1078.780029  1084.869995  1084.869995   \n",
       "2018-05-16  1085.089966  1094.380005  1081.630005  1084.089966  1084.089966   \n",
       "2018-05-17  1081.459961  1091.000000  1076.420044  1081.260010  1081.260010   \n",
       "2018-05-18  1066.000000  1073.729980  1064.680054  1069.640015  1069.640015   \n",
       "\n",
       "             Volume  \n",
       "Date                 \n",
       "2018-05-14  1966900  \n",
       "2018-05-15  1786900  \n",
       "2018-05-16  1281400  \n",
       "2018-05-17  1286900  \n",
       "2018-05-18  1774100  "
      ]
     },
     "execution_count": 5,
     "metadata": {},
     "output_type": "execute_result"
    }
   ],
   "source": [
    "# Solution\n",
    "\n",
    "# my_df = pd.read_csv(\"output_googl.csv\") -- I commented this because I don't want to save a new file every time\n",
    "my_df = df_googl\n",
    "my_df.head()"
   ]
  },
  {
   "cell_type": "code",
   "execution_count": 6,
   "metadata": {},
   "outputs": [
    {
     "data": {
      "text/html": [
       "<div>\n",
       "<style scoped>\n",
       "    .dataframe tbody tr th:only-of-type {\n",
       "        vertical-align: middle;\n",
       "    }\n",
       "\n",
       "    .dataframe tbody tr th {\n",
       "        vertical-align: top;\n",
       "    }\n",
       "\n",
       "    .dataframe thead th {\n",
       "        text-align: right;\n",
       "    }\n",
       "</style>\n",
       "<table border=\"1\" class=\"dataframe\">\n",
       "  <thead>\n",
       "    <tr style=\"text-align: right;\">\n",
       "      <th></th>\n",
       "      <th>Open</th>\n",
       "      <th>High</th>\n",
       "      <th>Low</th>\n",
       "      <th>Close</th>\n",
       "      <th>Adj Close</th>\n",
       "      <th>Volume</th>\n",
       "      <th>Daily Range</th>\n",
       "    </tr>\n",
       "    <tr>\n",
       "      <th>Date</th>\n",
       "      <th></th>\n",
       "      <th></th>\n",
       "      <th></th>\n",
       "      <th></th>\n",
       "      <th></th>\n",
       "      <th></th>\n",
       "      <th></th>\n",
       "    </tr>\n",
       "  </thead>\n",
       "  <tbody>\n",
       "    <tr>\n",
       "      <th>2018-05-14</th>\n",
       "      <td>1105.569946</td>\n",
       "      <td>1118.150024</td>\n",
       "      <td>1104.800049</td>\n",
       "      <td>1106.599976</td>\n",
       "      <td>1106.599976</td>\n",
       "      <td>1966900</td>\n",
       "      <td>13.349976</td>\n",
       "    </tr>\n",
       "    <tr>\n",
       "      <th>2018-05-15</th>\n",
       "      <td>1096.900024</td>\n",
       "      <td>1099.119995</td>\n",
       "      <td>1078.780029</td>\n",
       "      <td>1084.869995</td>\n",
       "      <td>1084.869995</td>\n",
       "      <td>1786900</td>\n",
       "      <td>20.339966</td>\n",
       "    </tr>\n",
       "    <tr>\n",
       "      <th>2018-05-16</th>\n",
       "      <td>1085.089966</td>\n",
       "      <td>1094.380005</td>\n",
       "      <td>1081.630005</td>\n",
       "      <td>1084.089966</td>\n",
       "      <td>1084.089966</td>\n",
       "      <td>1281400</td>\n",
       "      <td>12.750000</td>\n",
       "    </tr>\n",
       "    <tr>\n",
       "      <th>2018-05-17</th>\n",
       "      <td>1081.459961</td>\n",
       "      <td>1091.000000</td>\n",
       "      <td>1076.420044</td>\n",
       "      <td>1081.260010</td>\n",
       "      <td>1081.260010</td>\n",
       "      <td>1286900</td>\n",
       "      <td>14.579956</td>\n",
       "    </tr>\n",
       "    <tr>\n",
       "      <th>2018-05-18</th>\n",
       "      <td>1066.000000</td>\n",
       "      <td>1073.729980</td>\n",
       "      <td>1064.680054</td>\n",
       "      <td>1069.640015</td>\n",
       "      <td>1069.640015</td>\n",
       "      <td>1774100</td>\n",
       "      <td>9.049927</td>\n",
       "    </tr>\n",
       "  </tbody>\n",
       "</table>\n",
       "</div>"
      ],
      "text/plain": [
       "                   Open         High          Low        Close    Adj Close  \\\n",
       "Date                                                                          \n",
       "2018-05-14  1105.569946  1118.150024  1104.800049  1106.599976  1106.599976   \n",
       "2018-05-15  1096.900024  1099.119995  1078.780029  1084.869995  1084.869995   \n",
       "2018-05-16  1085.089966  1094.380005  1081.630005  1084.089966  1084.089966   \n",
       "2018-05-17  1081.459961  1091.000000  1076.420044  1081.260010  1081.260010   \n",
       "2018-05-18  1066.000000  1073.729980  1064.680054  1069.640015  1069.640015   \n",
       "\n",
       "             Volume  Daily Range  \n",
       "Date                              \n",
       "2018-05-14  1966900    13.349976  \n",
       "2018-05-15  1786900    20.339966  \n",
       "2018-05-16  1281400    12.750000  \n",
       "2018-05-17  1286900    14.579956  \n",
       "2018-05-18  1774100     9.049927  "
      ]
     },
     "execution_count": 6,
     "metadata": {},
     "output_type": "execute_result"
    }
   ],
   "source": [
    "my_df[\"Daily Range\"] = my_df.High - my_df.Low\n",
    "my_df.head()"
   ]
  },
  {
   "cell_type": "code",
   "execution_count": null,
   "metadata": {},
   "outputs": [],
   "source": []
  },
  {
   "cell_type": "code",
   "execution_count": null,
   "metadata": {},
   "outputs": [],
   "source": []
  }
 ],
 "metadata": {
  "interpreter": {
   "hash": "afb734500600fd355917ca529030176ea0ca205570884b88f2f6f7d791fd3fbe"
  },
  "kernelspec": {
   "display_name": "Python 3.10.0 64-bit",
   "language": "python",
   "name": "python3"
  },
  "language_info": {
   "codemirror_mode": {
    "name": "ipython",
    "version": 3
   },
   "file_extension": ".py",
   "mimetype": "text/x-python",
   "name": "python",
   "nbconvert_exporter": "python",
   "pygments_lexer": "ipython3",
   "version": "3.10.0"
  }
 },
 "nbformat": 4,
 "nbformat_minor": 2
}
