{
 "cells": [
  {
   "cell_type": "code",
   "execution_count": 7,
   "metadata": {},
   "outputs": [],
   "source": [
    "import pandas as pd\n",
    "import numpy as np\n",
    "import matplotlib.pyplot as plt"
   ]
  },
  {
   "cell_type": "markdown",
   "metadata": {},
   "source": [
    "## _Exercise 3.1_\n",
    "__20-period VWAP__\n",
    "\n",
    "_Implement the 20-period VWAP calculation with our file reader (using the data file 'output.csv'), and write the values to a new list._ \n",
    "\n",
    "Hint: for the calculation always use the last 20 elements from our price and volume lists."
   ]
  },
  {
   "cell_type": "code",
   "execution_count": 8,
   "metadata": {},
   "outputs": [],
   "source": [
    "close_prices = []\n",
    "volumes = []\n",
    "vwaps = []"
   ]
  },
  {
   "cell_type": "code",
   "execution_count": 9,
   "metadata": {},
   "outputs": [],
   "source": [
    "# Solution\n",
    "df = pd.read_csv(\"output.csv\", parse_dates=[\"Date\"], index_col=[\"Date\"])\n",
    "df.head()\n",
    "for row in df.iterrows():\n",
    "    cl = row[1][\"Close\"]\n",
    "    vol = row[1][\"Volume\"]\n",
    "    close_prices.append(cl)\n",
    "    volumes.append(vol)\n",
    "    vwap = np.sum(np.multiply(close_prices[-20:],volumes[-20:]))/np.sum(volumes[-20:])\n",
    "    vwaps.append(vwap)"
   ]
  },
  {
   "cell_type": "code",
   "execution_count": 15,
   "metadata": {},
   "outputs": [
    {
     "name": "stdout",
     "output_type": "stream",
     "text": [
      "999 999 999\n",
      "<class 'pandas.core.frame.DataFrame'>\n",
      "RangeIndex: 999 entries, 0 to 998\n",
      "Data columns (total 8 columns):\n",
      " #   Column      Non-Null Count  Dtype  \n",
      "---  ------      --------------  -----  \n",
      " 0   Date        999 non-null    object \n",
      " 1   Open        999 non-null    float64\n",
      " 2   High        999 non-null    float64\n",
      " 3   Low         999 non-null    float64\n",
      " 4   Close       999 non-null    float64\n",
      " 5   Adj Close   999 non-null    float64\n",
      " 6   Volume      999 non-null    int64  \n",
      " 7   pct return  998 non-null    float64\n",
      "dtypes: float64(6), int64(1), object(1)\n",
      "memory usage: 62.6+ KB\n"
     ]
    }
   ],
   "source": [
    "print(len(close_prices), len(volumes), len(vwaps))\n",
    "df.info()"
   ]
  },
  {
   "cell_type": "code",
   "execution_count": 10,
   "metadata": {},
   "outputs": [
    {
     "data": {
      "text/plain": [
       "[1106.5999755859375,\n",
       " 1096.2559769446648,\n",
       " 1093.1598682191434,\n",
       " 1090.737583243608,\n",
       " 1086.1145259519537,\n",
       " 1085.8313052962126,\n",
       " 1084.7141924638001,\n",
       " 1084.8410837134918,\n",
       " 1084.8905373631071,\n",
       " 1084.8252438162226]"
      ]
     },
     "execution_count": 10,
     "metadata": {},
     "output_type": "execute_result"
    }
   ],
   "source": [
    "vwaps[:10]"
   ]
  },
  {
   "cell_type": "markdown",
   "metadata": {},
   "source": [
    "## _Exercise 3.2_\n",
    "1. Read in the output.csv file and save it as a dataframe.\n",
    "2. Plot the percentage returns of the close prices in one line.\n",
    "\n",
    "Hint: Use the Pandas documentation to find the right functions."
   ]
  },
  {
   "cell_type": "code",
   "execution_count": 11,
   "metadata": {},
   "outputs": [
    {
     "data": {
      "text/html": [
       "<div>\n",
       "<style scoped>\n",
       "    .dataframe tbody tr th:only-of-type {\n",
       "        vertical-align: middle;\n",
       "    }\n",
       "\n",
       "    .dataframe tbody tr th {\n",
       "        vertical-align: top;\n",
       "    }\n",
       "\n",
       "    .dataframe thead th {\n",
       "        text-align: right;\n",
       "    }\n",
       "</style>\n",
       "<table border=\"1\" class=\"dataframe\">\n",
       "  <thead>\n",
       "    <tr style=\"text-align: right;\">\n",
       "      <th></th>\n",
       "      <th>Date</th>\n",
       "      <th>Open</th>\n",
       "      <th>High</th>\n",
       "      <th>Low</th>\n",
       "      <th>Close</th>\n",
       "      <th>Adj Close</th>\n",
       "      <th>Volume</th>\n",
       "    </tr>\n",
       "  </thead>\n",
       "  <tbody>\n",
       "    <tr>\n",
       "      <th>0</th>\n",
       "      <td>2018-05-14</td>\n",
       "      <td>1105.569946</td>\n",
       "      <td>1118.150024</td>\n",
       "      <td>1104.800049</td>\n",
       "      <td>1106.599976</td>\n",
       "      <td>1106.599976</td>\n",
       "      <td>1966900</td>\n",
       "    </tr>\n",
       "    <tr>\n",
       "      <th>1</th>\n",
       "      <td>2018-05-15</td>\n",
       "      <td>1096.900024</td>\n",
       "      <td>1099.119995</td>\n",
       "      <td>1078.780029</td>\n",
       "      <td>1084.869995</td>\n",
       "      <td>1084.869995</td>\n",
       "      <td>1786900</td>\n",
       "    </tr>\n",
       "    <tr>\n",
       "      <th>2</th>\n",
       "      <td>2018-05-16</td>\n",
       "      <td>1085.089966</td>\n",
       "      <td>1094.380005</td>\n",
       "      <td>1081.630005</td>\n",
       "      <td>1084.089966</td>\n",
       "      <td>1084.089966</td>\n",
       "      <td>1281400</td>\n",
       "    </tr>\n",
       "    <tr>\n",
       "      <th>3</th>\n",
       "      <td>2018-05-17</td>\n",
       "      <td>1081.459961</td>\n",
       "      <td>1091.000000</td>\n",
       "      <td>1076.420044</td>\n",
       "      <td>1081.260010</td>\n",
       "      <td>1081.260010</td>\n",
       "      <td>1286900</td>\n",
       "    </tr>\n",
       "    <tr>\n",
       "      <th>4</th>\n",
       "      <td>2018-05-18</td>\n",
       "      <td>1066.000000</td>\n",
       "      <td>1073.729980</td>\n",
       "      <td>1064.680054</td>\n",
       "      <td>1069.640015</td>\n",
       "      <td>1069.640015</td>\n",
       "      <td>1774100</td>\n",
       "    </tr>\n",
       "  </tbody>\n",
       "</table>\n",
       "</div>"
      ],
      "text/plain": [
       "         Date         Open         High          Low        Close  \\\n",
       "0  2018-05-14  1105.569946  1118.150024  1104.800049  1106.599976   \n",
       "1  2018-05-15  1096.900024  1099.119995  1078.780029  1084.869995   \n",
       "2  2018-05-16  1085.089966  1094.380005  1081.630005  1084.089966   \n",
       "3  2018-05-17  1081.459961  1091.000000  1076.420044  1081.260010   \n",
       "4  2018-05-18  1066.000000  1073.729980  1064.680054  1069.640015   \n",
       "\n",
       "     Adj Close   Volume  \n",
       "0  1106.599976  1966900  \n",
       "1  1084.869995  1786900  \n",
       "2  1084.089966  1281400  \n",
       "3  1081.260010  1286900  \n",
       "4  1069.640015  1774100  "
      ]
     },
     "execution_count": 11,
     "metadata": {},
     "output_type": "execute_result"
    }
   ],
   "source": [
    "# Solution\n",
    "\n",
    "df = pd.read_csv(\"output.csv\")\n",
    "df.head()"
   ]
  },
  {
   "cell_type": "code",
   "execution_count": 12,
   "metadata": {},
   "outputs": [
    {
     "data": {
      "text/html": [
       "<div>\n",
       "<style scoped>\n",
       "    .dataframe tbody tr th:only-of-type {\n",
       "        vertical-align: middle;\n",
       "    }\n",
       "\n",
       "    .dataframe tbody tr th {\n",
       "        vertical-align: top;\n",
       "    }\n",
       "\n",
       "    .dataframe thead th {\n",
       "        text-align: right;\n",
       "    }\n",
       "</style>\n",
       "<table border=\"1\" class=\"dataframe\">\n",
       "  <thead>\n",
       "    <tr style=\"text-align: right;\">\n",
       "      <th></th>\n",
       "      <th>Date</th>\n",
       "      <th>Open</th>\n",
       "      <th>High</th>\n",
       "      <th>Low</th>\n",
       "      <th>Close</th>\n",
       "      <th>Adj Close</th>\n",
       "      <th>Volume</th>\n",
       "      <th>pct return</th>\n",
       "    </tr>\n",
       "  </thead>\n",
       "  <tbody>\n",
       "    <tr>\n",
       "      <th>0</th>\n",
       "      <td>2018-05-14</td>\n",
       "      <td>1105.569946</td>\n",
       "      <td>1118.150024</td>\n",
       "      <td>1104.800049</td>\n",
       "      <td>1106.599976</td>\n",
       "      <td>1106.599976</td>\n",
       "      <td>1966900</td>\n",
       "      <td>NaN</td>\n",
       "    </tr>\n",
       "    <tr>\n",
       "      <th>1</th>\n",
       "      <td>2018-05-15</td>\n",
       "      <td>1096.900024</td>\n",
       "      <td>1099.119995</td>\n",
       "      <td>1078.780029</td>\n",
       "      <td>1084.869995</td>\n",
       "      <td>1084.869995</td>\n",
       "      <td>1786900</td>\n",
       "      <td>-0.019637</td>\n",
       "    </tr>\n",
       "    <tr>\n",
       "      <th>2</th>\n",
       "      <td>2018-05-16</td>\n",
       "      <td>1085.089966</td>\n",
       "      <td>1094.380005</td>\n",
       "      <td>1081.630005</td>\n",
       "      <td>1084.089966</td>\n",
       "      <td>1084.089966</td>\n",
       "      <td>1281400</td>\n",
       "      <td>-0.000719</td>\n",
       "    </tr>\n",
       "    <tr>\n",
       "      <th>3</th>\n",
       "      <td>2018-05-17</td>\n",
       "      <td>1081.459961</td>\n",
       "      <td>1091.000000</td>\n",
       "      <td>1076.420044</td>\n",
       "      <td>1081.260010</td>\n",
       "      <td>1081.260010</td>\n",
       "      <td>1286900</td>\n",
       "      <td>-0.002610</td>\n",
       "    </tr>\n",
       "    <tr>\n",
       "      <th>4</th>\n",
       "      <td>2018-05-18</td>\n",
       "      <td>1066.000000</td>\n",
       "      <td>1073.729980</td>\n",
       "      <td>1064.680054</td>\n",
       "      <td>1069.640015</td>\n",
       "      <td>1069.640015</td>\n",
       "      <td>1774100</td>\n",
       "      <td>-0.010747</td>\n",
       "    </tr>\n",
       "  </tbody>\n",
       "</table>\n",
       "</div>"
      ],
      "text/plain": [
       "         Date         Open         High          Low        Close  \\\n",
       "0  2018-05-14  1105.569946  1118.150024  1104.800049  1106.599976   \n",
       "1  2018-05-15  1096.900024  1099.119995  1078.780029  1084.869995   \n",
       "2  2018-05-16  1085.089966  1094.380005  1081.630005  1084.089966   \n",
       "3  2018-05-17  1081.459961  1091.000000  1076.420044  1081.260010   \n",
       "4  2018-05-18  1066.000000  1073.729980  1064.680054  1069.640015   \n",
       "\n",
       "     Adj Close   Volume  pct return  \n",
       "0  1106.599976  1966900         NaN  \n",
       "1  1084.869995  1786900   -0.019637  \n",
       "2  1084.089966  1281400   -0.000719  \n",
       "3  1081.260010  1286900   -0.002610  \n",
       "4  1069.640015  1774100   -0.010747  "
      ]
     },
     "execution_count": 12,
     "metadata": {},
     "output_type": "execute_result"
    }
   ],
   "source": [
    "df[\"pct return\"] = df.Close.pct_change()\n",
    "df.head()"
   ]
  }
 ],
 "metadata": {
  "interpreter": {
   "hash": "b5b892cc7669aad69d8c737f1b3363de750b2de7f750d91d9b4f5072028a9eaa"
  },
  "kernelspec": {
   "display_name": "Python 3.10.4 ('env-01')",
   "language": "python",
   "name": "python3"
  },
  "language_info": {
   "codemirror_mode": {
    "name": "ipython",
    "version": 3
   },
   "file_extension": ".py",
   "mimetype": "text/x-python",
   "name": "python",
   "nbconvert_exporter": "python",
   "pygments_lexer": "ipython3",
   "version": "3.10.4"
  }
 },
 "nbformat": 4,
 "nbformat_minor": 2
}
